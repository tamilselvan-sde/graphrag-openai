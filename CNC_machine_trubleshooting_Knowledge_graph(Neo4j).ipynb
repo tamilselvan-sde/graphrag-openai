{
 "cells": [
  {
   "cell_type": "markdown",
   "metadata": {
    "colab_type": "text",
    "id": "view-in-github"
   },
   "source": [
    "<a href=\"https://colab.research.google.com/github/sunnysavita10/Indepth-GENAI/blob/main/RAG_With_Knowledge_graph(Neo4j).ipynb\" target=\"_parent\"><img src=\"https://colab.research.google.com/assets/colab-badge.svg\" alt=\"Open In Colab\"/></a>"
   ]
  },
  {
   "cell_type": "markdown",
   "metadata": {
    "id": "xB3OyiU14byv"
   },
   "source": [
    "# langchain-core\n",
    "\n",
    "contains simple, core abstractions that have emerged as a standard, as well as LangChain Expression Language as a way to compose these components together. This package is now at version 0.1 and all breaking changes will be accompanied by a minor version bump.\n",
    "\n",
    "# langchain-community\n",
    "contains all third party integrations. We will work with partners on splitting key integrations out into standalone packages over the next month.\n",
    "\n",
    "# langchain\n",
    "contains higher-level and use-case specific chains, agents, and retrieval algorithms that are at the core of your application's cognitive architecture. We are targeting a launch of a stable 0.1 release for langchain in early January.#"
   ]
  },
  {
   "cell_type": "code",
   "execution_count": 1,
   "metadata": {
    "colab": {
     "base_uri": "https://localhost:8080/"
    },
    "id": "usWcdmOr7GAH",
    "outputId": "dcbfc75b-28d2-4a52-db53-83c63a862798"
   },
   "outputs": [
    {
     "name": "stdout",
     "output_type": "stream",
     "text": [
      "Note: you may need to restart the kernel to use updated packages.\n"
     ]
    }
   ],
   "source": [
    "%pip install --upgrade --quiet  langchain langchain-community langchain-openai langchain-experimental neo4j wikipedia tiktoken yfiles_jupyter_graphs"
   ]
  },
  {
   "cell_type": "code",
   "execution_count": 1,
   "metadata": {
    "id": "q8EzdaTJFTbx"
   },
   "outputs": [],
   "source": [
    "from langchain_core.runnables import (\n",
    "    RunnableBranch,\n",
    "    RunnableLambda,\n",
    "    RunnableParallel,\n",
    "    RunnablePassthrough,\n",
    ")"
   ]
  },
  {
   "cell_type": "code",
   "execution_count": 2,
   "metadata": {
    "id": "vKkxxyasFWPh"
   },
   "outputs": [],
   "source": [
    "from langchain_core.prompts import ChatPromptTemplate\n",
    "from langchain_core.prompts.prompt import PromptTemplate"
   ]
  },
  {
   "cell_type": "code",
   "execution_count": null,
   "metadata": {
    "id": "SksHz3Q356JQ"
   },
   "outputs": [],
   "source": [
    "\n",
    "OPENAI_API_KEY=\"\""
   ]
  },
  {
   "cell_type": "code",
   "execution_count": 4,
   "metadata": {
    "id": "GCEgNy7LFXS4"
   },
   "outputs": [],
   "source": [
    "from typing import Tuple, List, Optional"
   ]
  },
  {
   "cell_type": "code",
   "execution_count": 5,
   "metadata": {
    "id": "ymZquwggFaNr"
   },
   "outputs": [],
   "source": [
    "from langchain_core.messages import AIMessage, HumanMessage\n",
    "from langchain_core.output_parsers import StrOutputParser"
   ]
  },
  {
   "cell_type": "code",
   "execution_count": 6,
   "metadata": {
    "id": "nitfT-ktFaQQ"
   },
   "outputs": [],
   "source": [
    "from langchain_core.runnables import ConfigurableField"
   ]
  },
  {
   "cell_type": "code",
   "execution_count": 7,
   "metadata": {
    "id": "fzOPupw0FaSy"
   },
   "outputs": [],
   "source": [
    "from yfiles_jupyter_graphs import GraphWidget\n",
    "from neo4j import GraphDatabase\n"
   ]
  },
  {
   "cell_type": "code",
   "execution_count": 41,
   "metadata": {
    "id": "g6kjt1HkFaVZ"
   },
   "outputs": [],
   "source": [
    "import os"
   ]
  },
  {
   "cell_type": "code",
   "execution_count": null,
   "metadata": {
    "id": "IR5TLMjpFhE-"
   },
   "outputs": [],
   "source": []
  },
  {
   "cell_type": "code",
   "execution_count": 9,
   "metadata": {
    "id": "pSgOwI9SFhHr"
   },
   "outputs": [],
   "source": [
    "from langchain_community.vectorstores import Neo4jVector"
   ]
  },
  {
   "cell_type": "code",
   "execution_count": null,
   "metadata": {
    "id": "lyOvwiijFlQF"
   },
   "outputs": [],
   "source": []
  },
  {
   "cell_type": "code",
   "execution_count": 34,
   "metadata": {
    "id": "YiKFX23n4tl3"
   },
   "outputs": [],
   "source": [
    "NEO4J_URI = \"bolt://localhost:7687\"\n",
    "NEO4J_USERNAME = \"neo4j\"\n",
    "NEO4J_PASSWORD = \"@Tamilmech2000\""
   ]
  },
  {
   "cell_type": "code",
   "execution_count": 42,
   "metadata": {
    "id": "gHiqiwau7Tat"
   },
   "outputs": [],
   "source": [
    "os.environ[\"OPENAI_API_KEY\"] = OPENAI_API_KEY\n",
    "os.environ[\"NEO4J_URI\"] = NEO4J_URI\n",
    "os.environ[\"NEO4J_USERNAME\"] = NEO4J_USERNAME\n",
    "os.environ[\"NEO4J_PASSWORD\"] = NEO4J_PASSWORD"
   ]
  },
  {
   "cell_type": "code",
   "execution_count": 12,
   "metadata": {
    "id": "zpIPagYu6BAp"
   },
   "outputs": [],
   "source": [
    "from langchain_community.graphs import Neo4jGraph"
   ]
  },
  {
   "cell_type": "code",
   "execution_count": 13,
   "metadata": {
    "id": "0xzi4bRD6Bx9"
   },
   "outputs": [
    {
     "name": "stderr",
     "output_type": "stream",
     "text": [
      "/var/folders/g4/9z6rn3xs13x2b0bkcf9ljwbw0000gp/T/ipykernel_82698/267675202.py:1: LangChainDeprecationWarning: The class `Neo4jGraph` was deprecated in LangChain 0.3.8 and will be removed in 1.0. An updated version of the class exists in the `langchain-neo4j package and should be used instead. To use it run `pip install -U `langchain-neo4j` and import as `from `langchain_neo4j import Neo4jGraph``.\n",
      "  graph = Neo4jGraph()\n"
     ]
    }
   ],
   "source": [
    "graph = Neo4jGraph()"
   ]
  },
  {
   "cell_type": "code",
   "execution_count": 6,
   "metadata": {},
   "outputs": [
    {
     "name": "stdout",
     "output_type": "stream",
     "text": [
      "Requirement already satisfied: langchain-community in /opt/homebrew/Caskroom/miniconda/base/envs/graphrag/lib/python3.10/site-packages (0.4.1)\n",
      "Requirement already satisfied: langchain-core<2.0.0,>=1.0.1 in /opt/homebrew/Caskroom/miniconda/base/envs/graphrag/lib/python3.10/site-packages (from langchain-community) (1.0.2)\n",
      "Requirement already satisfied: langchain-classic<2.0.0,>=1.0.0 in /opt/homebrew/Caskroom/miniconda/base/envs/graphrag/lib/python3.10/site-packages (from langchain-community) (1.0.0)\n",
      "Requirement already satisfied: SQLAlchemy<3.0.0,>=1.4.0 in /opt/homebrew/Caskroom/miniconda/base/envs/graphrag/lib/python3.10/site-packages (from langchain-community) (2.0.44)\n",
      "Requirement already satisfied: requests<3.0.0,>=2.32.5 in /opt/homebrew/Caskroom/miniconda/base/envs/graphrag/lib/python3.10/site-packages (from langchain-community) (2.32.5)\n",
      "Requirement already satisfied: PyYAML<7.0.0,>=5.3.0 in /opt/homebrew/Caskroom/miniconda/base/envs/graphrag/lib/python3.10/site-packages (from langchain-community) (6.0.3)\n",
      "Requirement already satisfied: aiohttp<4.0.0,>=3.8.3 in /opt/homebrew/Caskroom/miniconda/base/envs/graphrag/lib/python3.10/site-packages (from langchain-community) (3.13.2)\n",
      "Requirement already satisfied: tenacity!=8.4.0,<10.0.0,>=8.1.0 in /opt/homebrew/Caskroom/miniconda/base/envs/graphrag/lib/python3.10/site-packages (from langchain-community) (9.1.2)\n",
      "Requirement already satisfied: dataclasses-json<0.7.0,>=0.6.7 in /opt/homebrew/Caskroom/miniconda/base/envs/graphrag/lib/python3.10/site-packages (from langchain-community) (0.6.7)\n",
      "Requirement already satisfied: pydantic-settings<3.0.0,>=2.10.1 in /opt/homebrew/Caskroom/miniconda/base/envs/graphrag/lib/python3.10/site-packages (from langchain-community) (2.11.0)\n",
      "Requirement already satisfied: langsmith<1.0.0,>=0.1.125 in /opt/homebrew/Caskroom/miniconda/base/envs/graphrag/lib/python3.10/site-packages (from langchain-community) (0.4.38)\n",
      "Requirement already satisfied: httpx-sse<1.0.0,>=0.4.0 in /opt/homebrew/Caskroom/miniconda/base/envs/graphrag/lib/python3.10/site-packages (from langchain-community) (0.4.3)\n",
      "Requirement already satisfied: numpy>=1.26.2 in /opt/homebrew/Caskroom/miniconda/base/envs/graphrag/lib/python3.10/site-packages (from langchain-community) (2.2.6)\n",
      "Requirement already satisfied: aiohappyeyeballs>=2.5.0 in /opt/homebrew/Caskroom/miniconda/base/envs/graphrag/lib/python3.10/site-packages (from aiohttp<4.0.0,>=3.8.3->langchain-community) (2.6.1)\n",
      "Requirement already satisfied: aiosignal>=1.4.0 in /opt/homebrew/Caskroom/miniconda/base/envs/graphrag/lib/python3.10/site-packages (from aiohttp<4.0.0,>=3.8.3->langchain-community) (1.4.0)\n",
      "Requirement already satisfied: async-timeout<6.0,>=4.0 in /opt/homebrew/Caskroom/miniconda/base/envs/graphrag/lib/python3.10/site-packages (from aiohttp<4.0.0,>=3.8.3->langchain-community) (4.0.3)\n",
      "Requirement already satisfied: attrs>=17.3.0 in /opt/homebrew/Caskroom/miniconda/base/envs/graphrag/lib/python3.10/site-packages (from aiohttp<4.0.0,>=3.8.3->langchain-community) (25.4.0)\n",
      "Requirement already satisfied: frozenlist>=1.1.1 in /opt/homebrew/Caskroom/miniconda/base/envs/graphrag/lib/python3.10/site-packages (from aiohttp<4.0.0,>=3.8.3->langchain-community) (1.8.0)\n",
      "Requirement already satisfied: multidict<7.0,>=4.5 in /opt/homebrew/Caskroom/miniconda/base/envs/graphrag/lib/python3.10/site-packages (from aiohttp<4.0.0,>=3.8.3->langchain-community) (6.7.0)\n",
      "Requirement already satisfied: propcache>=0.2.0 in /opt/homebrew/Caskroom/miniconda/base/envs/graphrag/lib/python3.10/site-packages (from aiohttp<4.0.0,>=3.8.3->langchain-community) (0.4.1)\n",
      "Requirement already satisfied: yarl<2.0,>=1.17.0 in /opt/homebrew/Caskroom/miniconda/base/envs/graphrag/lib/python3.10/site-packages (from aiohttp<4.0.0,>=3.8.3->langchain-community) (1.22.0)\n",
      "Requirement already satisfied: marshmallow<4.0.0,>=3.18.0 in /opt/homebrew/Caskroom/miniconda/base/envs/graphrag/lib/python3.10/site-packages (from dataclasses-json<0.7.0,>=0.6.7->langchain-community) (3.26.1)\n",
      "Requirement already satisfied: typing-inspect<1,>=0.4.0 in /opt/homebrew/Caskroom/miniconda/base/envs/graphrag/lib/python3.10/site-packages (from dataclasses-json<0.7.0,>=0.6.7->langchain-community) (0.9.0)\n",
      "Requirement already satisfied: langchain-text-splitters<2.0.0,>=1.0.0 in /opt/homebrew/Caskroom/miniconda/base/envs/graphrag/lib/python3.10/site-packages (from langchain-classic<2.0.0,>=1.0.0->langchain-community) (1.0.0)\n",
      "Requirement already satisfied: pydantic<3.0.0,>=2.7.4 in /opt/homebrew/Caskroom/miniconda/base/envs/graphrag/lib/python3.10/site-packages (from langchain-classic<2.0.0,>=1.0.0->langchain-community) (2.12.3)\n",
      "Requirement already satisfied: jsonpatch<2.0.0,>=1.33.0 in /opt/homebrew/Caskroom/miniconda/base/envs/graphrag/lib/python3.10/site-packages (from langchain-core<2.0.0,>=1.0.1->langchain-community) (1.33)\n",
      "Requirement already satisfied: packaging<26.0.0,>=23.2.0 in /opt/homebrew/Caskroom/miniconda/base/envs/graphrag/lib/python3.10/site-packages (from langchain-core<2.0.0,>=1.0.1->langchain-community) (25.0)\n",
      "Requirement already satisfied: typing-extensions<5.0.0,>=4.7.0 in /opt/homebrew/Caskroom/miniconda/base/envs/graphrag/lib/python3.10/site-packages (from langchain-core<2.0.0,>=1.0.1->langchain-community) (4.15.0)\n",
      "Requirement already satisfied: jsonpointer>=1.9 in /opt/homebrew/Caskroom/miniconda/base/envs/graphrag/lib/python3.10/site-packages (from jsonpatch<2.0.0,>=1.33.0->langchain-core<2.0.0,>=1.0.1->langchain-community) (3.0.0)\n",
      "Requirement already satisfied: httpx<1,>=0.23.0 in /opt/homebrew/Caskroom/miniconda/base/envs/graphrag/lib/python3.10/site-packages (from langsmith<1.0.0,>=0.1.125->langchain-community) (0.28.1)\n",
      "Requirement already satisfied: orjson>=3.9.14 in /opt/homebrew/Caskroom/miniconda/base/envs/graphrag/lib/python3.10/site-packages (from langsmith<1.0.0,>=0.1.125->langchain-community) (3.11.4)\n",
      "Requirement already satisfied: requests-toolbelt>=1.0.0 in /opt/homebrew/Caskroom/miniconda/base/envs/graphrag/lib/python3.10/site-packages (from langsmith<1.0.0,>=0.1.125->langchain-community) (1.0.0)\n",
      "Requirement already satisfied: zstandard>=0.23.0 in /opt/homebrew/Caskroom/miniconda/base/envs/graphrag/lib/python3.10/site-packages (from langsmith<1.0.0,>=0.1.125->langchain-community) (0.25.0)\n",
      "Requirement already satisfied: anyio in /opt/homebrew/Caskroom/miniconda/base/envs/graphrag/lib/python3.10/site-packages (from httpx<1,>=0.23.0->langsmith<1.0.0,>=0.1.125->langchain-community) (4.11.0)\n",
      "Requirement already satisfied: certifi in /opt/homebrew/Caskroom/miniconda/base/envs/graphrag/lib/python3.10/site-packages (from httpx<1,>=0.23.0->langsmith<1.0.0,>=0.1.125->langchain-community) (2025.10.5)\n",
      "Requirement already satisfied: httpcore==1.* in /opt/homebrew/Caskroom/miniconda/base/envs/graphrag/lib/python3.10/site-packages (from httpx<1,>=0.23.0->langsmith<1.0.0,>=0.1.125->langchain-community) (1.0.9)\n",
      "Requirement already satisfied: idna in /opt/homebrew/Caskroom/miniconda/base/envs/graphrag/lib/python3.10/site-packages (from httpx<1,>=0.23.0->langsmith<1.0.0,>=0.1.125->langchain-community) (3.11)\n",
      "Requirement already satisfied: h11>=0.16 in /opt/homebrew/Caskroom/miniconda/base/envs/graphrag/lib/python3.10/site-packages (from httpcore==1.*->httpx<1,>=0.23.0->langsmith<1.0.0,>=0.1.125->langchain-community) (0.16.0)\n",
      "Requirement already satisfied: annotated-types>=0.6.0 in /opt/homebrew/Caskroom/miniconda/base/envs/graphrag/lib/python3.10/site-packages (from pydantic<3.0.0,>=2.7.4->langchain-classic<2.0.0,>=1.0.0->langchain-community) (0.7.0)\n",
      "Requirement already satisfied: pydantic-core==2.41.4 in /opt/homebrew/Caskroom/miniconda/base/envs/graphrag/lib/python3.10/site-packages (from pydantic<3.0.0,>=2.7.4->langchain-classic<2.0.0,>=1.0.0->langchain-community) (2.41.4)\n",
      "Requirement already satisfied: typing-inspection>=0.4.2 in /opt/homebrew/Caskroom/miniconda/base/envs/graphrag/lib/python3.10/site-packages (from pydantic<3.0.0,>=2.7.4->langchain-classic<2.0.0,>=1.0.0->langchain-community) (0.4.2)\n",
      "Requirement already satisfied: python-dotenv>=0.21.0 in /opt/homebrew/Caskroom/miniconda/base/envs/graphrag/lib/python3.10/site-packages (from pydantic-settings<3.0.0,>=2.10.1->langchain-community) (1.2.1)\n",
      "Requirement already satisfied: charset_normalizer<4,>=2 in /opt/homebrew/Caskroom/miniconda/base/envs/graphrag/lib/python3.10/site-packages (from requests<3.0.0,>=2.32.5->langchain-community) (3.4.4)\n",
      "Requirement already satisfied: urllib3<3,>=1.21.1 in /opt/homebrew/Caskroom/miniconda/base/envs/graphrag/lib/python3.10/site-packages (from requests<3.0.0,>=2.32.5->langchain-community) (2.5.0)\n",
      "Requirement already satisfied: mypy-extensions>=0.3.0 in /opt/homebrew/Caskroom/miniconda/base/envs/graphrag/lib/python3.10/site-packages (from typing-inspect<1,>=0.4.0->dataclasses-json<0.7.0,>=0.6.7->langchain-community) (1.1.0)\n",
      "Requirement already satisfied: exceptiongroup>=1.0.2 in /opt/homebrew/Caskroom/miniconda/base/envs/graphrag/lib/python3.10/site-packages (from anyio->httpx<1,>=0.23.0->langsmith<1.0.0,>=0.1.125->langchain-community) (1.3.0)\n",
      "Requirement already satisfied: sniffio>=1.1 in /opt/homebrew/Caskroom/miniconda/base/envs/graphrag/lib/python3.10/site-packages (from anyio->httpx<1,>=0.23.0->langsmith<1.0.0,>=0.1.125->langchain-community) (1.3.1)\n"
     ]
    }
   ],
   "source": [
    "!pip install langchain-community\n",
    "\n"
   ]
  },
  {
   "cell_type": "code",
   "execution_count": 87,
   "metadata": {
    "colab": {
     "base_uri": "https://localhost:8080/"
    },
    "id": "XKqtMDVY6WwW",
    "outputId": "c432ea29-28d4-4501-e01e-dececbc2d748"
   },
   "outputs": [],
   "source": [
    "# from langchain_community.document_loaders.wikipedia import WikipediaLoader\n",
    "\n",
    "# raw_documents = WikipediaLoader(query=\"Elizabeth I\").load()\n",
    "\n",
    "from langchain_community.document_loaders.pdf import PyPDFLoader\n",
    "\n",
    "# Replace 'yourfile.pdf' with the path to your PDF file\n",
    "loader = PyPDFLoader(\"/Users/tamilselavans/Downloads/neo4j-docker/cnc_troubleshooting.pdf\")\n",
    "raw_documents = loader.load()\n",
    "\n"
   ]
  },
  {
   "cell_type": "code",
   "execution_count": 88,
   "metadata": {
    "colab": {
     "base_uri": "https://localhost:8080/"
    },
    "id": "ACWeDt0O7yc2",
    "outputId": "14415b49-96a8-4c23-e8f0-c962afbe1135"
   },
   "outputs": [
    {
     "data": {
      "text/plain": [
       "26"
      ]
     },
     "execution_count": 88,
     "metadata": {},
     "output_type": "execute_result"
    }
   ],
   "source": [
    "len(raw_documents)"
   ]
  },
  {
   "cell_type": "code",
   "execution_count": 89,
   "metadata": {
    "colab": {
     "base_uri": "https://localhost:8080/"
    },
    "id": "skFy3n30732l",
    "outputId": "95a859ac-436a-4de9-e1fa-146aa92c07d0"
   },
   "outputs": [
    {
     "data": {
      "text/plain": [
       "[Document(metadata={'producer': 'https://www.convertapi.com', 'creator': '', 'creationdate': '2022-02-27T09:40:06+02:00', 'moddate': '2022-02-27T09:40:08+02:00', 'source': '/Users/tamilselavans/Downloads/neo4j-docker/cnc_troubleshooting.pdf', 'total_pages': 26, 'page': 0, 'page_label': '1'}, page_content='1  \\n \\n \\n \\n \\n \\n \\n \\n \\nTROUBLESHOOTING GUIDE FOR CNC MACHINES \\n \\n \\n       PATIALA LOCOMOTIVE WORKS, PATIALA \\nAn ISO 9001,  ISO 14001, IS 18001, ISO 50001,  5S & Green Building Certified Organization'),\n",
       " Document(metadata={'producer': 'https://www.convertapi.com', 'creator': '', 'creationdate': '2022-02-27T09:40:06+02:00', 'moddate': '2022-02-27T09:40:08+02:00', 'source': '/Users/tamilselavans/Downloads/neo4j-docker/cnc_troubleshooting.pdf', 'total_pages': 26, 'page': 1, 'page_label': '2'}, page_content='2  \\n \\n \\n \\n \\n \\n \\n \\n \\n \\n \\n \\nINDEX \\n \\nS.N Topic Page No. \\n1 GENERAL TROUBLESHOOTING 03-09 \\n2 TROUBLE SHOOTING FOR THREE PHASE VOLTAGE STABILIZERS 10-11 \\n3 HYDRAULIC SYSTEMS TROUBLE SHOOTING 12-14 \\n4 PREVENTIVE MAINTENANCE SCHEDULE 15-24 \\n5 RESOURCES AND SPARES FOR CNC MACHINES 25-26'),\n",
       " Document(metadata={'producer': 'https://www.convertapi.com', 'creator': '', 'creationdate': '2022-02-27T09:40:06+02:00', 'moddate': '2022-02-27T09:40:08+02:00', 'source': '/Users/tamilselavans/Downloads/neo4j-docker/cnc_troubleshooting.pdf', 'total_pages': 26, 'page': 2, 'page_label': '3'}, page_content='3  \\n \\n \\n \\n \\nObjective \\nTROUBLESHOOTING OF CNC MACHINES \\nAt the end of this unit you should understand:- \\n \\n• Different type of machine maintenance. \\n• Best maintenance practices followed by CNC machines. \\n• Tools and accessories used in CNC machine tools maintenance work. \\n• Problems related to mechanical system in CNC machines \\n• Meaning of the term “Backlash”, how to identify and measure Backlash. \\n• Causes of failure of electronic system in CNC machines and precautions to be \\nobserved. \\n• How to check pneumatic system in CNC machines. and \\n• Causes of excessive noise in CNC Machines and how to eliminate it. \\nDIFFERENT TYPE OF MACHINE MAINTENANCE. \\n \\n1 CORRECTIVE MAINTENANCE:- \\nMaintenance performed, after the occurrence of a failure, to restore the machine \\ntool to its original condition, to the extent possible. \\n \\n2. PREVENTIVE MAINTENANCE:- \\nMaintenance preformed to retain the machine in its original condition, to the \\nextent possible, by providing systematic inspection, periodical checking \\nservicing, detection and prevention of failure likely to occur. \\n \\n3. BACKLOG MAINTENANCE:- \\nMaintenance that is necessary to prevent the deterioration in the performance or \\nfunctioning of the machine by which has not been carried out. Accordingly, \\nbacklog maintenance has a higher priority than deferred maintenance. The \\nmaintenance practices to be deferred and which comes \\nunder backlog list will have be reviewed annually and documented. \\n \\n4. DEFERRED MAINTENANCE:- \\nMaintenance that is due to be carried out in the current financial year but which \\ncould not be carried out due to shortage of funds or unavailability of spare parts. \\nSuch maintenance should \\nbe added to the backlog Maintenance programme awaiting attention. \\n \\n5. TPM (TOTAL PRODUCTIVE MAINTENANCE):- \\nMaintenance method integrates production function of the equipment \\nand the maintenance function required. The maintenance of the machine \\nand its schedule is considered and integral part of the production')]"
      ]
     },
     "execution_count": 89,
     "metadata": {},
     "output_type": "execute_result"
    }
   ],
   "source": [
    "raw_documents[:3]"
   ]
  },
  {
   "cell_type": "code",
   "execution_count": 12,
   "metadata": {},
   "outputs": [
    {
     "name": "stdout",
     "output_type": "stream",
     "text": [
      "Requirement already satisfied: langchain-text-splitters in /opt/homebrew/Caskroom/miniconda/base/envs/graphrag/lib/python3.10/site-packages (1.0.0)\n",
      "Requirement already satisfied: langchain-core<2.0.0,>=1.0.0 in /opt/homebrew/Caskroom/miniconda/base/envs/graphrag/lib/python3.10/site-packages (from langchain-text-splitters) (1.0.2)\n",
      "Requirement already satisfied: jsonpatch<2.0.0,>=1.33.0 in /opt/homebrew/Caskroom/miniconda/base/envs/graphrag/lib/python3.10/site-packages (from langchain-core<2.0.0,>=1.0.0->langchain-text-splitters) (1.33)\n",
      "Requirement already satisfied: langsmith<1.0.0,>=0.3.45 in /opt/homebrew/Caskroom/miniconda/base/envs/graphrag/lib/python3.10/site-packages (from langchain-core<2.0.0,>=1.0.0->langchain-text-splitters) (0.4.38)\n",
      "Requirement already satisfied: packaging<26.0.0,>=23.2.0 in /opt/homebrew/Caskroom/miniconda/base/envs/graphrag/lib/python3.10/site-packages (from langchain-core<2.0.0,>=1.0.0->langchain-text-splitters) (25.0)\n",
      "Requirement already satisfied: pydantic<3.0.0,>=2.7.4 in /opt/homebrew/Caskroom/miniconda/base/envs/graphrag/lib/python3.10/site-packages (from langchain-core<2.0.0,>=1.0.0->langchain-text-splitters) (2.12.3)\n",
      "Requirement already satisfied: pyyaml<7.0.0,>=5.3.0 in /opt/homebrew/Caskroom/miniconda/base/envs/graphrag/lib/python3.10/site-packages (from langchain-core<2.0.0,>=1.0.0->langchain-text-splitters) (6.0.3)\n",
      "Requirement already satisfied: tenacity!=8.4.0,<10.0.0,>=8.1.0 in /opt/homebrew/Caskroom/miniconda/base/envs/graphrag/lib/python3.10/site-packages (from langchain-core<2.0.0,>=1.0.0->langchain-text-splitters) (9.1.2)\n",
      "Requirement already satisfied: typing-extensions<5.0.0,>=4.7.0 in /opt/homebrew/Caskroom/miniconda/base/envs/graphrag/lib/python3.10/site-packages (from langchain-core<2.0.0,>=1.0.0->langchain-text-splitters) (4.15.0)\n",
      "Requirement already satisfied: jsonpointer>=1.9 in /opt/homebrew/Caskroom/miniconda/base/envs/graphrag/lib/python3.10/site-packages (from jsonpatch<2.0.0,>=1.33.0->langchain-core<2.0.0,>=1.0.0->langchain-text-splitters) (3.0.0)\n",
      "Requirement already satisfied: httpx<1,>=0.23.0 in /opt/homebrew/Caskroom/miniconda/base/envs/graphrag/lib/python3.10/site-packages (from langsmith<1.0.0,>=0.3.45->langchain-core<2.0.0,>=1.0.0->langchain-text-splitters) (0.28.1)\n",
      "Requirement already satisfied: orjson>=3.9.14 in /opt/homebrew/Caskroom/miniconda/base/envs/graphrag/lib/python3.10/site-packages (from langsmith<1.0.0,>=0.3.45->langchain-core<2.0.0,>=1.0.0->langchain-text-splitters) (3.11.4)\n",
      "Requirement already satisfied: requests-toolbelt>=1.0.0 in /opt/homebrew/Caskroom/miniconda/base/envs/graphrag/lib/python3.10/site-packages (from langsmith<1.0.0,>=0.3.45->langchain-core<2.0.0,>=1.0.0->langchain-text-splitters) (1.0.0)\n",
      "Requirement already satisfied: requests>=2.0.0 in /opt/homebrew/Caskroom/miniconda/base/envs/graphrag/lib/python3.10/site-packages (from langsmith<1.0.0,>=0.3.45->langchain-core<2.0.0,>=1.0.0->langchain-text-splitters) (2.32.5)\n",
      "Requirement already satisfied: zstandard>=0.23.0 in /opt/homebrew/Caskroom/miniconda/base/envs/graphrag/lib/python3.10/site-packages (from langsmith<1.0.0,>=0.3.45->langchain-core<2.0.0,>=1.0.0->langchain-text-splitters) (0.25.0)\n",
      "Requirement already satisfied: anyio in /opt/homebrew/Caskroom/miniconda/base/envs/graphrag/lib/python3.10/site-packages (from httpx<1,>=0.23.0->langsmith<1.0.0,>=0.3.45->langchain-core<2.0.0,>=1.0.0->langchain-text-splitters) (4.11.0)\n",
      "Requirement already satisfied: certifi in /opt/homebrew/Caskroom/miniconda/base/envs/graphrag/lib/python3.10/site-packages (from httpx<1,>=0.23.0->langsmith<1.0.0,>=0.3.45->langchain-core<2.0.0,>=1.0.0->langchain-text-splitters) (2025.10.5)\n",
      "Requirement already satisfied: httpcore==1.* in /opt/homebrew/Caskroom/miniconda/base/envs/graphrag/lib/python3.10/site-packages (from httpx<1,>=0.23.0->langsmith<1.0.0,>=0.3.45->langchain-core<2.0.0,>=1.0.0->langchain-text-splitters) (1.0.9)\n",
      "Requirement already satisfied: idna in /opt/homebrew/Caskroom/miniconda/base/envs/graphrag/lib/python3.10/site-packages (from httpx<1,>=0.23.0->langsmith<1.0.0,>=0.3.45->langchain-core<2.0.0,>=1.0.0->langchain-text-splitters) (3.11)\n",
      "Requirement already satisfied: h11>=0.16 in /opt/homebrew/Caskroom/miniconda/base/envs/graphrag/lib/python3.10/site-packages (from httpcore==1.*->httpx<1,>=0.23.0->langsmith<1.0.0,>=0.3.45->langchain-core<2.0.0,>=1.0.0->langchain-text-splitters) (0.16.0)\n",
      "Requirement already satisfied: annotated-types>=0.6.0 in /opt/homebrew/Caskroom/miniconda/base/envs/graphrag/lib/python3.10/site-packages (from pydantic<3.0.0,>=2.7.4->langchain-core<2.0.0,>=1.0.0->langchain-text-splitters) (0.7.0)\n",
      "Requirement already satisfied: pydantic-core==2.41.4 in /opt/homebrew/Caskroom/miniconda/base/envs/graphrag/lib/python3.10/site-packages (from pydantic<3.0.0,>=2.7.4->langchain-core<2.0.0,>=1.0.0->langchain-text-splitters) (2.41.4)\n",
      "Requirement already satisfied: typing-inspection>=0.4.2 in /opt/homebrew/Caskroom/miniconda/base/envs/graphrag/lib/python3.10/site-packages (from pydantic<3.0.0,>=2.7.4->langchain-core<2.0.0,>=1.0.0->langchain-text-splitters) (0.4.2)\n",
      "Requirement already satisfied: charset_normalizer<4,>=2 in /opt/homebrew/Caskroom/miniconda/base/envs/graphrag/lib/python3.10/site-packages (from requests>=2.0.0->langsmith<1.0.0,>=0.3.45->langchain-core<2.0.0,>=1.0.0->langchain-text-splitters) (3.4.4)\n",
      "Requirement already satisfied: urllib3<3,>=1.21.1 in /opt/homebrew/Caskroom/miniconda/base/envs/graphrag/lib/python3.10/site-packages (from requests>=2.0.0->langsmith<1.0.0,>=0.3.45->langchain-core<2.0.0,>=1.0.0->langchain-text-splitters) (2.5.0)\n",
      "Requirement already satisfied: exceptiongroup>=1.0.2 in /opt/homebrew/Caskroom/miniconda/base/envs/graphrag/lib/python3.10/site-packages (from anyio->httpx<1,>=0.23.0->langsmith<1.0.0,>=0.3.45->langchain-core<2.0.0,>=1.0.0->langchain-text-splitters) (1.3.0)\n",
      "Requirement already satisfied: sniffio>=1.1 in /opt/homebrew/Caskroom/miniconda/base/envs/graphrag/lib/python3.10/site-packages (from anyio->httpx<1,>=0.23.0->langsmith<1.0.0,>=0.3.45->langchain-core<2.0.0,>=1.0.0->langchain-text-splitters) (1.3.1)\n",
      "Note: you may need to restart the kernel to use updated packages.\n"
     ]
    }
   ],
   "source": [
    "pip install langchain-text-splitters\n"
   ]
  },
  {
   "cell_type": "code",
   "execution_count": 90,
   "metadata": {
    "id": "5ChZ008I6paW"
   },
   "outputs": [],
   "source": [
    "from langchain_text_splitters import TokenTextSplitter\n",
    "\n",
    "text_splitter = TokenTextSplitter(chunk_size=512, chunk_overlap=24)\n",
    "documents = text_splitter.split_documents(raw_documents[:3])\n"
   ]
  },
  {
   "cell_type": "code",
   "execution_count": 91,
   "metadata": {
    "id": "IMh_IpRb78rs"
   },
   "outputs": [],
   "source": [
    "from langchain_openai import ChatOpenAI\n",
    "llm=ChatOpenAI(temperature=0, model_name=\"gpt-3.5-turbo-0125\")"
   ]
  },
  {
   "cell_type": "code",
   "execution_count": 28,
   "metadata": {},
   "outputs": [
    {
     "name": "stdout",
     "output_type": "stream",
     "text": [
      "Requirement already satisfied: langchain-experimental in /opt/homebrew/Caskroom/miniconda/base/envs/graphrag/lib/python3.10/site-packages (0.0.42)\n",
      "Collecting langchain-experimental\n",
      "  Using cached langchain_experimental-0.3.4-py3-none-any.whl.metadata (1.7 kB)\n",
      "Collecting langchain-community<0.4.0,>=0.3.0 (from langchain-experimental)\n",
      "  Using cached langchain_community-0.3.31-py3-none-any.whl.metadata (3.0 kB)\n",
      "Collecting langchain-core<0.4.0,>=0.3.28 (from langchain-experimental)\n",
      "  Using cached langchain_core-0.3.79-py3-none-any.whl.metadata (3.2 kB)\n",
      "Requirement already satisfied: langchain<2.0.0,>=0.3.27 in /opt/homebrew/Caskroom/miniconda/base/envs/graphrag/lib/python3.10/site-packages (from langchain-community<0.4.0,>=0.3.0->langchain-experimental) (1.0.3)\n",
      "Requirement already satisfied: SQLAlchemy<3.0.0,>=1.4.0 in /opt/homebrew/Caskroom/miniconda/base/envs/graphrag/lib/python3.10/site-packages (from langchain-community<0.4.0,>=0.3.0->langchain-experimental) (2.0.44)\n",
      "Requirement already satisfied: requests<3.0.0,>=2.32.5 in /opt/homebrew/Caskroom/miniconda/base/envs/graphrag/lib/python3.10/site-packages (from langchain-community<0.4.0,>=0.3.0->langchain-experimental) (2.32.5)\n",
      "Requirement already satisfied: PyYAML<7.0.0,>=5.3.0 in /opt/homebrew/Caskroom/miniconda/base/envs/graphrag/lib/python3.10/site-packages (from langchain-community<0.4.0,>=0.3.0->langchain-experimental) (6.0.3)\n",
      "Requirement already satisfied: aiohttp<4.0.0,>=3.8.3 in /opt/homebrew/Caskroom/miniconda/base/envs/graphrag/lib/python3.10/site-packages (from langchain-community<0.4.0,>=0.3.0->langchain-experimental) (3.13.2)\n",
      "Requirement already satisfied: tenacity!=8.4.0,<10.0.0,>=8.1.0 in /opt/homebrew/Caskroom/miniconda/base/envs/graphrag/lib/python3.10/site-packages (from langchain-community<0.4.0,>=0.3.0->langchain-experimental) (9.1.2)\n",
      "Requirement already satisfied: dataclasses-json<0.7.0,>=0.6.7 in /opt/homebrew/Caskroom/miniconda/base/envs/graphrag/lib/python3.10/site-packages (from langchain-community<0.4.0,>=0.3.0->langchain-experimental) (0.6.7)\n",
      "Requirement already satisfied: pydantic-settings<3.0.0,>=2.10.1 in /opt/homebrew/Caskroom/miniconda/base/envs/graphrag/lib/python3.10/site-packages (from langchain-community<0.4.0,>=0.3.0->langchain-experimental) (2.11.0)\n",
      "Requirement already satisfied: langsmith<1.0.0,>=0.1.125 in /opt/homebrew/Caskroom/miniconda/base/envs/graphrag/lib/python3.10/site-packages (from langchain-community<0.4.0,>=0.3.0->langchain-experimental) (0.4.38)\n",
      "Requirement already satisfied: httpx-sse<1.0.0,>=0.4.0 in /opt/homebrew/Caskroom/miniconda/base/envs/graphrag/lib/python3.10/site-packages (from langchain-community<0.4.0,>=0.3.0->langchain-experimental) (0.4.3)\n",
      "Requirement already satisfied: numpy>=1.26.2 in /opt/homebrew/Caskroom/miniconda/base/envs/graphrag/lib/python3.10/site-packages (from langchain-community<0.4.0,>=0.3.0->langchain-experimental) (2.2.6)\n",
      "Requirement already satisfied: aiohappyeyeballs>=2.5.0 in /opt/homebrew/Caskroom/miniconda/base/envs/graphrag/lib/python3.10/site-packages (from aiohttp<4.0.0,>=3.8.3->langchain-community<0.4.0,>=0.3.0->langchain-experimental) (2.6.1)\n",
      "Requirement already satisfied: aiosignal>=1.4.0 in /opt/homebrew/Caskroom/miniconda/base/envs/graphrag/lib/python3.10/site-packages (from aiohttp<4.0.0,>=3.8.3->langchain-community<0.4.0,>=0.3.0->langchain-experimental) (1.4.0)\n",
      "Requirement already satisfied: async-timeout<6.0,>=4.0 in /opt/homebrew/Caskroom/miniconda/base/envs/graphrag/lib/python3.10/site-packages (from aiohttp<4.0.0,>=3.8.3->langchain-community<0.4.0,>=0.3.0->langchain-experimental) (4.0.3)\n",
      "Requirement already satisfied: attrs>=17.3.0 in /opt/homebrew/Caskroom/miniconda/base/envs/graphrag/lib/python3.10/site-packages (from aiohttp<4.0.0,>=3.8.3->langchain-community<0.4.0,>=0.3.0->langchain-experimental) (25.4.0)\n",
      "Requirement already satisfied: frozenlist>=1.1.1 in /opt/homebrew/Caskroom/miniconda/base/envs/graphrag/lib/python3.10/site-packages (from aiohttp<4.0.0,>=3.8.3->langchain-community<0.4.0,>=0.3.0->langchain-experimental) (1.8.0)\n",
      "Requirement already satisfied: multidict<7.0,>=4.5 in /opt/homebrew/Caskroom/miniconda/base/envs/graphrag/lib/python3.10/site-packages (from aiohttp<4.0.0,>=3.8.3->langchain-community<0.4.0,>=0.3.0->langchain-experimental) (6.7.0)\n",
      "Requirement already satisfied: propcache>=0.2.0 in /opt/homebrew/Caskroom/miniconda/base/envs/graphrag/lib/python3.10/site-packages (from aiohttp<4.0.0,>=3.8.3->langchain-community<0.4.0,>=0.3.0->langchain-experimental) (0.4.1)\n",
      "Requirement already satisfied: yarl<2.0,>=1.17.0 in /opt/homebrew/Caskroom/miniconda/base/envs/graphrag/lib/python3.10/site-packages (from aiohttp<4.0.0,>=3.8.3->langchain-community<0.4.0,>=0.3.0->langchain-experimental) (1.22.0)\n",
      "Requirement already satisfied: marshmallow<4.0.0,>=3.18.0 in /opt/homebrew/Caskroom/miniconda/base/envs/graphrag/lib/python3.10/site-packages (from dataclasses-json<0.7.0,>=0.6.7->langchain-community<0.4.0,>=0.3.0->langchain-experimental) (3.26.1)\n",
      "Requirement already satisfied: typing-inspect<1,>=0.4.0 in /opt/homebrew/Caskroom/miniconda/base/envs/graphrag/lib/python3.10/site-packages (from dataclasses-json<0.7.0,>=0.6.7->langchain-community<0.4.0,>=0.3.0->langchain-experimental) (0.9.0)\n",
      "INFO: pip is looking at multiple versions of langchain to determine which version is compatible with other requirements. This could take a while.\n",
      "Collecting langchain<2.0.0,>=0.3.27 (from langchain-community<0.4.0,>=0.3.0->langchain-experimental)\n",
      "  Using cached langchain-1.0.2-py3-none-any.whl.metadata (4.7 kB)\n",
      "  Using cached langchain-1.0.1-py3-none-any.whl.metadata (4.7 kB)\n",
      "  Using cached langchain-1.0.0-py3-none-any.whl.metadata (4.6 kB)\n",
      "  Using cached langchain-0.3.27-py3-none-any.whl.metadata (7.8 kB)\n",
      "Collecting langchain-text-splitters<1.0.0,>=0.3.9 (from langchain<2.0.0,>=0.3.27->langchain-community<0.4.0,>=0.3.0->langchain-experimental)\n",
      "  Using cached langchain_text_splitters-0.3.11-py3-none-any.whl.metadata (1.8 kB)\n",
      "Requirement already satisfied: pydantic<3.0.0,>=2.7.4 in /opt/homebrew/Caskroom/miniconda/base/envs/graphrag/lib/python3.10/site-packages (from langchain<2.0.0,>=0.3.27->langchain-community<0.4.0,>=0.3.0->langchain-experimental) (2.12.3)\n",
      "Requirement already satisfied: jsonpatch<2.0.0,>=1.33.0 in /opt/homebrew/Caskroom/miniconda/base/envs/graphrag/lib/python3.10/site-packages (from langchain-core<0.4.0,>=0.3.28->langchain-experimental) (1.33)\n",
      "Requirement already satisfied: typing-extensions<5.0.0,>=4.7.0 in /opt/homebrew/Caskroom/miniconda/base/envs/graphrag/lib/python3.10/site-packages (from langchain-core<0.4.0,>=0.3.28->langchain-experimental) (4.15.0)\n",
      "Requirement already satisfied: packaging<26.0.0,>=23.2.0 in /opt/homebrew/Caskroom/miniconda/base/envs/graphrag/lib/python3.10/site-packages (from langchain-core<0.4.0,>=0.3.28->langchain-experimental) (25.0)\n",
      "Requirement already satisfied: jsonpointer>=1.9 in /opt/homebrew/Caskroom/miniconda/base/envs/graphrag/lib/python3.10/site-packages (from jsonpatch<2.0.0,>=1.33.0->langchain-core<0.4.0,>=0.3.28->langchain-experimental) (3.0.0)\n",
      "Requirement already satisfied: httpx<1,>=0.23.0 in /opt/homebrew/Caskroom/miniconda/base/envs/graphrag/lib/python3.10/site-packages (from langsmith<1.0.0,>=0.1.125->langchain-community<0.4.0,>=0.3.0->langchain-experimental) (0.28.1)\n",
      "Requirement already satisfied: orjson>=3.9.14 in /opt/homebrew/Caskroom/miniconda/base/envs/graphrag/lib/python3.10/site-packages (from langsmith<1.0.0,>=0.1.125->langchain-community<0.4.0,>=0.3.0->langchain-experimental) (3.11.4)\n",
      "Requirement already satisfied: requests-toolbelt>=1.0.0 in /opt/homebrew/Caskroom/miniconda/base/envs/graphrag/lib/python3.10/site-packages (from langsmith<1.0.0,>=0.1.125->langchain-community<0.4.0,>=0.3.0->langchain-experimental) (1.0.0)\n",
      "Requirement already satisfied: zstandard>=0.23.0 in /opt/homebrew/Caskroom/miniconda/base/envs/graphrag/lib/python3.10/site-packages (from langsmith<1.0.0,>=0.1.125->langchain-community<0.4.0,>=0.3.0->langchain-experimental) (0.25.0)\n",
      "Requirement already satisfied: anyio in /opt/homebrew/Caskroom/miniconda/base/envs/graphrag/lib/python3.10/site-packages (from httpx<1,>=0.23.0->langsmith<1.0.0,>=0.1.125->langchain-community<0.4.0,>=0.3.0->langchain-experimental) (4.11.0)\n",
      "Requirement already satisfied: certifi in /opt/homebrew/Caskroom/miniconda/base/envs/graphrag/lib/python3.10/site-packages (from httpx<1,>=0.23.0->langsmith<1.0.0,>=0.1.125->langchain-community<0.4.0,>=0.3.0->langchain-experimental) (2025.10.5)\n",
      "Requirement already satisfied: httpcore==1.* in /opt/homebrew/Caskroom/miniconda/base/envs/graphrag/lib/python3.10/site-packages (from httpx<1,>=0.23.0->langsmith<1.0.0,>=0.1.125->langchain-community<0.4.0,>=0.3.0->langchain-experimental) (1.0.9)\n",
      "Requirement already satisfied: idna in /opt/homebrew/Caskroom/miniconda/base/envs/graphrag/lib/python3.10/site-packages (from httpx<1,>=0.23.0->langsmith<1.0.0,>=0.1.125->langchain-community<0.4.0,>=0.3.0->langchain-experimental) (3.11)\n",
      "Requirement already satisfied: h11>=0.16 in /opt/homebrew/Caskroom/miniconda/base/envs/graphrag/lib/python3.10/site-packages (from httpcore==1.*->httpx<1,>=0.23.0->langsmith<1.0.0,>=0.1.125->langchain-community<0.4.0,>=0.3.0->langchain-experimental) (0.16.0)\n",
      "Requirement already satisfied: annotated-types>=0.6.0 in /opt/homebrew/Caskroom/miniconda/base/envs/graphrag/lib/python3.10/site-packages (from pydantic<3.0.0,>=2.7.4->langchain<2.0.0,>=0.3.27->langchain-community<0.4.0,>=0.3.0->langchain-experimental) (0.7.0)\n",
      "Requirement already satisfied: pydantic-core==2.41.4 in /opt/homebrew/Caskroom/miniconda/base/envs/graphrag/lib/python3.10/site-packages (from pydantic<3.0.0,>=2.7.4->langchain<2.0.0,>=0.3.27->langchain-community<0.4.0,>=0.3.0->langchain-experimental) (2.41.4)\n",
      "Requirement already satisfied: typing-inspection>=0.4.2 in /opt/homebrew/Caskroom/miniconda/base/envs/graphrag/lib/python3.10/site-packages (from pydantic<3.0.0,>=2.7.4->langchain<2.0.0,>=0.3.27->langchain-community<0.4.0,>=0.3.0->langchain-experimental) (0.4.2)\n",
      "Requirement already satisfied: python-dotenv>=0.21.0 in /opt/homebrew/Caskroom/miniconda/base/envs/graphrag/lib/python3.10/site-packages (from pydantic-settings<3.0.0,>=2.10.1->langchain-community<0.4.0,>=0.3.0->langchain-experimental) (1.2.1)\n",
      "Requirement already satisfied: charset_normalizer<4,>=2 in /opt/homebrew/Caskroom/miniconda/base/envs/graphrag/lib/python3.10/site-packages (from requests<3.0.0,>=2.32.5->langchain-community<0.4.0,>=0.3.0->langchain-experimental) (3.4.4)\n",
      "Requirement already satisfied: urllib3<3,>=1.21.1 in /opt/homebrew/Caskroom/miniconda/base/envs/graphrag/lib/python3.10/site-packages (from requests<3.0.0,>=2.32.5->langchain-community<0.4.0,>=0.3.0->langchain-experimental) (2.5.0)\n",
      "Requirement already satisfied: mypy-extensions>=0.3.0 in /opt/homebrew/Caskroom/miniconda/base/envs/graphrag/lib/python3.10/site-packages (from typing-inspect<1,>=0.4.0->dataclasses-json<0.7.0,>=0.6.7->langchain-community<0.4.0,>=0.3.0->langchain-experimental) (1.1.0)\n",
      "Requirement already satisfied: exceptiongroup>=1.0.2 in /opt/homebrew/Caskroom/miniconda/base/envs/graphrag/lib/python3.10/site-packages (from anyio->httpx<1,>=0.23.0->langsmith<1.0.0,>=0.1.125->langchain-community<0.4.0,>=0.3.0->langchain-experimental) (1.3.0)\n",
      "Requirement already satisfied: sniffio>=1.1 in /opt/homebrew/Caskroom/miniconda/base/envs/graphrag/lib/python3.10/site-packages (from anyio->httpx<1,>=0.23.0->langsmith<1.0.0,>=0.1.125->langchain-community<0.4.0,>=0.3.0->langchain-experimental) (1.3.1)\n",
      "Using cached langchain_experimental-0.3.4-py3-none-any.whl (209 kB)\n",
      "Using cached langchain_community-0.3.31-py3-none-any.whl (2.5 MB)\n",
      "Using cached langchain-0.3.27-py3-none-any.whl (1.0 MB)\n",
      "Using cached langchain_core-0.3.79-py3-none-any.whl (449 kB)\n",
      "Using cached langchain_text_splitters-0.3.11-py3-none-any.whl (33 kB)\n",
      "Installing collected packages: langchain-core, langchain-text-splitters, langchain, langchain-community, langchain-experimental\n",
      "\u001b[2K  Attempting uninstall: langchain-core\n",
      "\u001b[2K    Found existing installation: langchain-core 1.0.2\n",
      "\u001b[2K    Uninstalling langchain-core-1.0.2:\n",
      "\u001b[2K      Successfully uninstalled langchain-core-1.0.2\n",
      "\u001b[2K  Attempting uninstall: langchain-text-splitters━━━━━━\u001b[0m \u001b[32m0/5\u001b[0m [langchain-core]\n",
      "\u001b[2K    Found existing installation: langchain-text-splitters 1.0.0\u001b[0m [langchain-core]\n",
      "\u001b[2K    Uninstalling langchain-text-splitters-1.0.0:━━\u001b[0m \u001b[32m0/5\u001b[0m [langchain-core]\n",
      "\u001b[2K      Successfully uninstalled langchain-text-splitters-1.0.0/5\u001b[0m [langchain-core]\n",
      "\u001b[2K  Attempting uninstall: langchain━━━━━━━━━━━━━━━━━\u001b[0m \u001b[32m0/5\u001b[0m [langchain-core]\n",
      "\u001b[2K    Found existing installation: langchain 1.0.3━━\u001b[0m \u001b[32m0/5\u001b[0m [langchain-core]\n",
      "\u001b[2K    Uninstalling langchain-1.0.3:━━━━━━━━━━━━━━━━━\u001b[0m \u001b[32m0/5\u001b[0m [langchain-core]\n",
      "\u001b[2K      Successfully uninstalled langchain-1.0.3━━━━\u001b[0m \u001b[32m0/5\u001b[0m [langchain-core]\n",
      "\u001b[2K  Attempting uninstall: langchain-community38;5;237m╺\u001b[0m\u001b[38;5;237m━━━━━━━━━━━━━━━━━━━━━━━\u001b[0m \u001b[32m2/5\u001b[0m [langchain]\n",
      "\u001b[2K    Found existing installation: langchain-community 0.4.15;237m━━━━━━━━━━━━━━━━━━━━━━━\u001b[0m \u001b[32m2/5\u001b[0m [langchain]\n",
      "\u001b[2K    Uninstalling langchain-community-0.4.1:━━\u001b[0m\u001b[38;5;237m╺\u001b[0m\u001b[38;5;237m━━━━━━━━━━━━━━━\u001b[0m \u001b[32m3/5\u001b[0m [langchain-community]\n",
      "\u001b[2K      Successfully uninstalled langchain-community-0.4.1╺\u001b[0m\u001b[38;5;237m━━━━━━━━━━━━━━━\u001b[0m \u001b[32m3/5\u001b[0m [langchain-community]\n",
      "\u001b[2K  Attempting uninstall: langchain-experimental[0m\u001b[38;5;237m╺\u001b[0m\u001b[38;5;237m━━━━━━━━━━━━━━━\u001b[0m \u001b[32m3/5\u001b[0m [langchain-community]\n",
      "\u001b[2K    Found existing installation: langchain-experimental 0.0.42[38;5;237m━━━━━━━━━━━━━━━\u001b[0m \u001b[32m3/5\u001b[0m [langchain-community]\n",
      "\u001b[2K    Uninstalling langchain-experimental-0.0.42:38;5;237m╺\u001b[0m\u001b[38;5;237m━━━━━━━━━━━━━━━\u001b[0m \u001b[32m3/5\u001b[0m [langchain-community]\n",
      "\u001b[2K      Successfully uninstalled langchain-experimental-0.0.42m\u001b[38;5;237m━━━━━━━━━━━━━━━\u001b[0m \u001b[32m3/5\u001b[0m [langchain-community]\n",
      "\u001b[2K   \u001b[38;2;114;156;31m━━━━━━━━━━━━━━━━━━━━━━━━━━━━━━━━━━━━━━━━\u001b[0m \u001b[32m5/5\u001b[0m [langchain-experimental]5\u001b[0m [langchain-experimental]\n",
      "\u001b[1A\u001b[2K\u001b[31mERROR: pip's dependency resolver does not currently take into account all the packages that are installed. This behaviour is the source of the following dependency conflicts.\n",
      "langchain-classic 1.0.0 requires langchain-core<2.0.0,>=1.0.0, but you have langchain-core 0.3.79 which is incompatible.\n",
      "langchain-classic 1.0.0 requires langchain-text-splitters<2.0.0,>=1.0.0, but you have langchain-text-splitters 0.3.11 which is incompatible.\n",
      "langchain-openai 1.0.1 requires langchain-core<2.0.0,>=1.0.0, but you have langchain-core 0.3.79 which is incompatible.\n",
      "langgraph-prebuilt 1.0.2 requires langchain-core>=1.0.0, but you have langchain-core 0.3.79 which is incompatible.\u001b[0m\u001b[31m\n",
      "\u001b[0mSuccessfully installed langchain-0.3.27 langchain-community-0.3.31 langchain-core-0.3.79 langchain-experimental-0.3.4 langchain-text-splitters-0.3.11\n"
     ]
    }
   ],
   "source": [
    "!pip install --upgrade langchain-experimental\n",
    "\n",
    "\n"
   ]
  },
  {
   "cell_type": "code",
   "execution_count": null,
   "metadata": {},
   "outputs": [],
   "source": [
    "\n"
   ]
  },
  {
   "cell_type": "code",
   "execution_count": null,
   "metadata": {},
   "outputs": [],
   "source": []
  },
  {
   "cell_type": "code",
   "execution_count": 95,
   "metadata": {
    "id": "Mer51fZA9pa1"
   },
   "outputs": [],
   "source": [
    "from langchain_experimental.graph_transformers.llm import LLMGraphTransformer\n",
    "\n",
    "llm_transformer = LLMGraphTransformer(llm=llm)"
   ]
  },
  {
   "cell_type": "code",
   "execution_count": 31,
   "metadata": {},
   "outputs": [
    {
     "name": "stdout",
     "output_type": "stream",
     "text": [
      "Requirement already satisfied: langchain-core in /opt/homebrew/Caskroom/miniconda/base/envs/graphrag/lib/python3.10/site-packages (0.3.79)\n",
      "Collecting langchain-core\n",
      "  Using cached langchain_core-1.0.2-py3-none-any.whl.metadata (3.5 kB)\n",
      "Requirement already satisfied: langchain in /opt/homebrew/Caskroom/miniconda/base/envs/graphrag/lib/python3.10/site-packages (0.3.27)\n",
      "Collecting langchain\n",
      "  Using cached langchain-1.0.3-py3-none-any.whl.metadata (4.7 kB)\n",
      "Requirement already satisfied: langchain-experimental in /opt/homebrew/Caskroom/miniconda/base/envs/graphrag/lib/python3.10/site-packages (0.3.4)\n",
      "Requirement already satisfied: langchain-community in /opt/homebrew/Caskroom/miniconda/base/envs/graphrag/lib/python3.10/site-packages (0.3.31)\n",
      "Collecting langchain-community\n",
      "  Using cached langchain_community-0.4.1-py3-none-any.whl.metadata (3.0 kB)\n",
      "Requirement already satisfied: jsonpatch<2.0.0,>=1.33.0 in /opt/homebrew/Caskroom/miniconda/base/envs/graphrag/lib/python3.10/site-packages (from langchain-core) (1.33)\n",
      "Requirement already satisfied: langsmith<1.0.0,>=0.3.45 in /opt/homebrew/Caskroom/miniconda/base/envs/graphrag/lib/python3.10/site-packages (from langchain-core) (0.4.38)\n",
      "Requirement already satisfied: packaging<26.0.0,>=23.2.0 in /opt/homebrew/Caskroom/miniconda/base/envs/graphrag/lib/python3.10/site-packages (from langchain-core) (25.0)\n",
      "Requirement already satisfied: pydantic<3.0.0,>=2.7.4 in /opt/homebrew/Caskroom/miniconda/base/envs/graphrag/lib/python3.10/site-packages (from langchain-core) (2.12.3)\n",
      "Requirement already satisfied: pyyaml<7.0.0,>=5.3.0 in /opt/homebrew/Caskroom/miniconda/base/envs/graphrag/lib/python3.10/site-packages (from langchain-core) (6.0.3)\n",
      "Requirement already satisfied: tenacity!=8.4.0,<10.0.0,>=8.1.0 in /opt/homebrew/Caskroom/miniconda/base/envs/graphrag/lib/python3.10/site-packages (from langchain-core) (9.1.2)\n",
      "Requirement already satisfied: typing-extensions<5.0.0,>=4.7.0 in /opt/homebrew/Caskroom/miniconda/base/envs/graphrag/lib/python3.10/site-packages (from langchain-core) (4.15.0)\n",
      "Requirement already satisfied: jsonpointer>=1.9 in /opt/homebrew/Caskroom/miniconda/base/envs/graphrag/lib/python3.10/site-packages (from jsonpatch<2.0.0,>=1.33.0->langchain-core) (3.0.0)\n",
      "Requirement already satisfied: httpx<1,>=0.23.0 in /opt/homebrew/Caskroom/miniconda/base/envs/graphrag/lib/python3.10/site-packages (from langsmith<1.0.0,>=0.3.45->langchain-core) (0.28.1)\n",
      "Requirement already satisfied: orjson>=3.9.14 in /opt/homebrew/Caskroom/miniconda/base/envs/graphrag/lib/python3.10/site-packages (from langsmith<1.0.0,>=0.3.45->langchain-core) (3.11.4)\n",
      "Requirement already satisfied: requests-toolbelt>=1.0.0 in /opt/homebrew/Caskroom/miniconda/base/envs/graphrag/lib/python3.10/site-packages (from langsmith<1.0.0,>=0.3.45->langchain-core) (1.0.0)\n",
      "Requirement already satisfied: requests>=2.0.0 in /opt/homebrew/Caskroom/miniconda/base/envs/graphrag/lib/python3.10/site-packages (from langsmith<1.0.0,>=0.3.45->langchain-core) (2.32.5)\n",
      "Requirement already satisfied: zstandard>=0.23.0 in /opt/homebrew/Caskroom/miniconda/base/envs/graphrag/lib/python3.10/site-packages (from langsmith<1.0.0,>=0.3.45->langchain-core) (0.25.0)\n",
      "Requirement already satisfied: anyio in /opt/homebrew/Caskroom/miniconda/base/envs/graphrag/lib/python3.10/site-packages (from httpx<1,>=0.23.0->langsmith<1.0.0,>=0.3.45->langchain-core) (4.11.0)\n",
      "Requirement already satisfied: certifi in /opt/homebrew/Caskroom/miniconda/base/envs/graphrag/lib/python3.10/site-packages (from httpx<1,>=0.23.0->langsmith<1.0.0,>=0.3.45->langchain-core) (2025.10.5)\n",
      "Requirement already satisfied: httpcore==1.* in /opt/homebrew/Caskroom/miniconda/base/envs/graphrag/lib/python3.10/site-packages (from httpx<1,>=0.23.0->langsmith<1.0.0,>=0.3.45->langchain-core) (1.0.9)\n",
      "Requirement already satisfied: idna in /opt/homebrew/Caskroom/miniconda/base/envs/graphrag/lib/python3.10/site-packages (from httpx<1,>=0.23.0->langsmith<1.0.0,>=0.3.45->langchain-core) (3.11)\n",
      "Requirement already satisfied: h11>=0.16 in /opt/homebrew/Caskroom/miniconda/base/envs/graphrag/lib/python3.10/site-packages (from httpcore==1.*->httpx<1,>=0.23.0->langsmith<1.0.0,>=0.3.45->langchain-core) (0.16.0)\n",
      "Requirement already satisfied: annotated-types>=0.6.0 in /opt/homebrew/Caskroom/miniconda/base/envs/graphrag/lib/python3.10/site-packages (from pydantic<3.0.0,>=2.7.4->langchain-core) (0.7.0)\n",
      "Requirement already satisfied: pydantic-core==2.41.4 in /opt/homebrew/Caskroom/miniconda/base/envs/graphrag/lib/python3.10/site-packages (from pydantic<3.0.0,>=2.7.4->langchain-core) (2.41.4)\n",
      "Requirement already satisfied: typing-inspection>=0.4.2 in /opt/homebrew/Caskroom/miniconda/base/envs/graphrag/lib/python3.10/site-packages (from pydantic<3.0.0,>=2.7.4->langchain-core) (0.4.2)\n",
      "Requirement already satisfied: langgraph<1.1.0,>=1.0.2 in /opt/homebrew/Caskroom/miniconda/base/envs/graphrag/lib/python3.10/site-packages (from langchain) (1.0.2)\n",
      "Requirement already satisfied: langgraph-checkpoint<4.0.0,>=2.1.0 in /opt/homebrew/Caskroom/miniconda/base/envs/graphrag/lib/python3.10/site-packages (from langgraph<1.1.0,>=1.0.2->langchain) (3.0.0)\n",
      "Requirement already satisfied: langgraph-prebuilt<1.1.0,>=1.0.2 in /opt/homebrew/Caskroom/miniconda/base/envs/graphrag/lib/python3.10/site-packages (from langgraph<1.1.0,>=1.0.2->langchain) (1.0.2)\n",
      "Requirement already satisfied: langgraph-sdk<0.3.0,>=0.2.2 in /opt/homebrew/Caskroom/miniconda/base/envs/graphrag/lib/python3.10/site-packages (from langgraph<1.1.0,>=1.0.2->langchain) (0.2.9)\n",
      "Requirement already satisfied: xxhash>=3.5.0 in /opt/homebrew/Caskroom/miniconda/base/envs/graphrag/lib/python3.10/site-packages (from langgraph<1.1.0,>=1.0.2->langchain) (3.6.0)\n",
      "Requirement already satisfied: ormsgpack>=1.10.0 in /opt/homebrew/Caskroom/miniconda/base/envs/graphrag/lib/python3.10/site-packages (from langgraph-checkpoint<4.0.0,>=2.1.0->langgraph<1.1.0,>=1.0.2->langchain) (1.11.0)\n",
      "INFO: pip is looking at multiple versions of langchain-experimental to determine which version is compatible with other requirements. This could take a while.\n",
      "Collecting langchain-experimental\n",
      "  Using cached langchain_experimental-0.3.4-py3-none-any.whl.metadata (1.7 kB)\n",
      "  Using cached langchain_experimental-0.3.3-py3-none-any.whl.metadata (1.7 kB)\n",
      "  Using cached langchain_experimental-0.3.2-py3-none-any.whl.metadata (1.7 kB)\n",
      "  Using cached langchain_experimental-0.3.1.post1-py3-none-any.whl.metadata (1.7 kB)\n",
      "INFO: pip is still looking at multiple versions of langchain-experimental to determine which version is compatible with other requirements. This could take a while.\n",
      "  Using cached langchain_experimental-0.3.1-py3-none-any.whl.metadata (1.7 kB)\n",
      "  Using cached langchain_experimental-0.3.0-py3-none-any.whl.metadata (1.7 kB)\n",
      "INFO: This is taking longer than usual. You might need to provide the dependency resolver with stricter constraints to reduce runtime. See https://pip.pypa.io/warnings/backtracking for guidance. If you want to abort this run, press Ctrl + C.\n",
      "  Using cached langchain_experimental-0.0.65-py3-none-any.whl.metadata (1.7 kB)\n",
      "Collecting langchain-community\n",
      "  Using cached langchain_community-0.2.19-py3-none-any.whl.metadata (2.7 kB)\n",
      "Collecting langchain-experimental\n",
      "  Using cached langchain_experimental-0.0.64-py3-none-any.whl.metadata (1.7 kB)\n",
      "  Using cached langchain_experimental-0.0.63-py3-none-any.whl.metadata (1.7 kB)\n",
      "  Using cached langchain_experimental-0.0.62-py3-none-any.whl.metadata (1.5 kB)\n",
      "  Using cached langchain_experimental-0.0.61-py3-none-any.whl.metadata (1.5 kB)\n",
      "  Using cached langchain_experimental-0.0.60-py3-none-any.whl.metadata (2.1 kB)\n",
      "  Using cached langchain_experimental-0.0.59-py3-none-any.whl.metadata (2.1 kB)\n",
      "  Using cached langchain_experimental-0.0.58-py3-none-any.whl.metadata (2.1 kB)\n",
      "Collecting langchain\n",
      "  Using cached langchain-0.1.20-py3-none-any.whl.metadata (13 kB)\n",
      "Collecting langchain-experimental\n",
      "  Using cached langchain_experimental-0.0.57-py3-none-any.whl.metadata (2.1 kB)\n",
      "  Using cached langchain_experimental-0.0.56-py3-none-any.whl.metadata (2.1 kB)\n",
      "  Using cached langchain_experimental-0.0.55-py3-none-any.whl.metadata (2.1 kB)\n",
      "  Using cached langchain_experimental-0.0.54-py3-none-any.whl.metadata (2.1 kB)\n",
      "  Using cached langchain_experimental-0.0.53-py3-none-any.whl.metadata (2.1 kB)\n",
      "  Using cached langchain_experimental-0.0.52-py3-none-any.whl.metadata (2.1 kB)\n",
      "  Using cached langchain_experimental-0.0.51-py3-none-any.whl.metadata (2.1 kB)\n",
      "  Using cached langchain_experimental-0.0.50-py3-none-any.whl.metadata (1.9 kB)\n",
      "  Using cached langchain_experimental-0.0.49-py3-none-any.whl.metadata (1.9 kB)\n",
      "  Using cached langchain_experimental-0.0.48-py3-none-any.whl.metadata (1.9 kB)\n",
      "  Using cached langchain_experimental-0.0.47-py3-none-any.whl.metadata (1.9 kB)\n",
      "Collecting langchain\n",
      "  Using cached langchain-0.0.354-py3-none-any.whl.metadata (13 kB)\n",
      "Collecting langchain-experimental\n",
      "  Using cached langchain_experimental-0.0.46-py3-none-any.whl.metadata (1.9 kB)\n",
      "  Using cached langchain_experimental-0.0.45-py3-none-any.whl.metadata (1.9 kB)\n",
      "  Using cached langchain_experimental-0.0.44-py3-none-any.whl.metadata (1.8 kB)\n",
      "  Using cached langchain_experimental-0.0.43-py3-none-any.whl.metadata (1.8 kB)\n",
      "Requirement already satisfied: SQLAlchemy<3,>=1.4 in /opt/homebrew/Caskroom/miniconda/base/envs/graphrag/lib/python3.10/site-packages (from langchain) (2.0.44)\n",
      "Requirement already satisfied: aiohttp<4.0.0,>=3.8.3 in /opt/homebrew/Caskroom/miniconda/base/envs/graphrag/lib/python3.10/site-packages (from langchain) (3.13.2)\n",
      "Requirement already satisfied: async-timeout<5.0.0,>=4.0.0 in /opt/homebrew/Caskroom/miniconda/base/envs/graphrag/lib/python3.10/site-packages (from langchain) (4.0.3)\n",
      "Requirement already satisfied: dataclasses-json<0.7,>=0.5.7 in /opt/homebrew/Caskroom/miniconda/base/envs/graphrag/lib/python3.10/site-packages (from langchain) (0.6.7)\n",
      "Collecting langchain-community\n",
      "  Using cached langchain_community-0.0.38-py3-none-any.whl.metadata (8.7 kB)\n",
      "INFO: pip is looking at multiple versions of langchain to determine which version is compatible with other requirements. This could take a while.\n",
      "Collecting langchain\n",
      "  Using cached langchain-0.0.353-py3-none-any.whl.metadata (13 kB)\n",
      "  Using cached langchain-0.0.352-py3-none-any.whl.metadata (13 kB)\n",
      "  Using cached langchain-0.0.351-py3-none-any.whl.metadata (13 kB)\n",
      "  Using cached langchain-0.0.350-py3-none-any.whl.metadata (13 kB)\n",
      "  Using cached langchain-0.0.349-py3-none-any.whl.metadata (13 kB)\n",
      "  Using cached langchain-0.0.348-py3-none-any.whl.metadata (16 kB)\n",
      "  Using cached langchain-0.0.347-py3-none-any.whl.metadata (16 kB)\n",
      "Collecting anyio (from httpx<1,>=0.23.0->langsmith<1.0.0,>=0.3.45->langchain-core)\n",
      "  Using cached anyio-3.7.1-py3-none-any.whl.metadata (4.7 kB)\n",
      "INFO: pip is still looking at multiple versions of langchain to determine which version is compatible with other requirements. This could take a while.\n",
      "Collecting langchain\n",
      "  Using cached langchain-0.0.346-py3-none-any.whl.metadata (16 kB)\n",
      "  Using cached langchain-0.0.345-py3-none-any.whl.metadata (16 kB)\n",
      "  Using cached langchain-0.0.344-py3-none-any.whl.metadata (16 kB)\n",
      "  Using cached langchain-0.0.343-py3-none-any.whl.metadata (16 kB)\n",
      "  Using cached langchain-0.0.342-py3-none-any.whl.metadata (16 kB)\n",
      "INFO: This is taking longer than usual. You might need to provide the dependency resolver with stricter constraints to reduce runtime. See https://pip.pypa.io/warnings/backtracking for guidance. If you want to abort this run, press Ctrl + C.\n",
      "Collecting langchain-experimental\n",
      "  Using cached langchain_experimental-0.0.42-py3-none-any.whl.metadata (1.8 kB)\n",
      "Requirement already satisfied: langchain-classic<2.0.0,>=1.0.0 in /opt/homebrew/Caskroom/miniconda/base/envs/graphrag/lib/python3.10/site-packages (from langchain-community) (1.0.0)\n",
      "Requirement already satisfied: pydantic-settings<3.0.0,>=2.10.1 in /opt/homebrew/Caskroom/miniconda/base/envs/graphrag/lib/python3.10/site-packages (from langchain-community) (2.11.0)\n",
      "Requirement already satisfied: httpx-sse<1.0.0,>=0.4.0 in /opt/homebrew/Caskroom/miniconda/base/envs/graphrag/lib/python3.10/site-packages (from langchain-community) (0.4.3)\n",
      "Requirement already satisfied: numpy>=1.26.2 in /opt/homebrew/Caskroom/miniconda/base/envs/graphrag/lib/python3.10/site-packages (from langchain-community) (2.2.6)\n",
      "Requirement already satisfied: aiohappyeyeballs>=2.5.0 in /opt/homebrew/Caskroom/miniconda/base/envs/graphrag/lib/python3.10/site-packages (from aiohttp<4.0.0,>=3.8.3->langchain) (2.6.1)\n",
      "Requirement already satisfied: aiosignal>=1.4.0 in /opt/homebrew/Caskroom/miniconda/base/envs/graphrag/lib/python3.10/site-packages (from aiohttp<4.0.0,>=3.8.3->langchain) (1.4.0)\n",
      "Requirement already satisfied: attrs>=17.3.0 in /opt/homebrew/Caskroom/miniconda/base/envs/graphrag/lib/python3.10/site-packages (from aiohttp<4.0.0,>=3.8.3->langchain) (25.4.0)\n",
      "Requirement already satisfied: frozenlist>=1.1.1 in /opt/homebrew/Caskroom/miniconda/base/envs/graphrag/lib/python3.10/site-packages (from aiohttp<4.0.0,>=3.8.3->langchain) (1.8.0)\n",
      "Requirement already satisfied: multidict<7.0,>=4.5 in /opt/homebrew/Caskroom/miniconda/base/envs/graphrag/lib/python3.10/site-packages (from aiohttp<4.0.0,>=3.8.3->langchain) (6.7.0)\n",
      "Requirement already satisfied: propcache>=0.2.0 in /opt/homebrew/Caskroom/miniconda/base/envs/graphrag/lib/python3.10/site-packages (from aiohttp<4.0.0,>=3.8.3->langchain) (0.4.1)\n",
      "Requirement already satisfied: yarl<2.0,>=1.17.0 in /opt/homebrew/Caskroom/miniconda/base/envs/graphrag/lib/python3.10/site-packages (from aiohttp<4.0.0,>=3.8.3->langchain) (1.22.0)\n",
      "Requirement already satisfied: marshmallow<4.0.0,>=3.18.0 in /opt/homebrew/Caskroom/miniconda/base/envs/graphrag/lib/python3.10/site-packages (from dataclasses-json<0.7,>=0.5.7->langchain) (3.26.1)\n",
      "Requirement already satisfied: typing-inspect<1,>=0.4.0 in /opt/homebrew/Caskroom/miniconda/base/envs/graphrag/lib/python3.10/site-packages (from dataclasses-json<0.7,>=0.5.7->langchain) (0.9.0)\n",
      "Collecting langchain-text-splitters<2.0.0,>=1.0.0 (from langchain-classic<2.0.0,>=1.0.0->langchain-community)\n",
      "  Using cached langchain_text_splitters-1.0.0-py3-none-any.whl.metadata (2.6 kB)\n",
      "Requirement already satisfied: python-dotenv>=0.21.0 in /opt/homebrew/Caskroom/miniconda/base/envs/graphrag/lib/python3.10/site-packages (from pydantic-settings<3.0.0,>=2.10.1->langchain-community) (1.2.1)\n",
      "Requirement already satisfied: charset_normalizer<4,>=2 in /opt/homebrew/Caskroom/miniconda/base/envs/graphrag/lib/python3.10/site-packages (from requests>=2.0.0->langsmith<1.0.0,>=0.3.45->langchain-core) (3.4.4)\n",
      "Requirement already satisfied: urllib3<3,>=1.21.1 in /opt/homebrew/Caskroom/miniconda/base/envs/graphrag/lib/python3.10/site-packages (from requests>=2.0.0->langsmith<1.0.0,>=0.3.45->langchain-core) (2.5.0)\n",
      "Requirement already satisfied: mypy-extensions>=0.3.0 in /opt/homebrew/Caskroom/miniconda/base/envs/graphrag/lib/python3.10/site-packages (from typing-inspect<1,>=0.4.0->dataclasses-json<0.7,>=0.5.7->langchain) (1.1.0)\n",
      "Requirement already satisfied: exceptiongroup>=1.0.2 in /opt/homebrew/Caskroom/miniconda/base/envs/graphrag/lib/python3.10/site-packages (from anyio->httpx<1,>=0.23.0->langsmith<1.0.0,>=0.3.45->langchain-core) (1.3.0)\n",
      "Requirement already satisfied: sniffio>=1.1 in /opt/homebrew/Caskroom/miniconda/base/envs/graphrag/lib/python3.10/site-packages (from anyio->httpx<1,>=0.23.0->langsmith<1.0.0,>=0.3.45->langchain-core) (1.3.1)\n",
      "Using cached langchain_core-1.0.2-py3-none-any.whl (469 kB)\n",
      "Using cached langchain-1.0.3-py3-none-any.whl (91 kB)\n",
      "Using cached langchain_experimental-0.0.42-py3-none-any.whl (159 kB)\n",
      "Using cached langchain_community-0.4.1-py3-none-any.whl (2.5 MB)\n",
      "Using cached langchain_text_splitters-1.0.0-py3-none-any.whl (33 kB)\n",
      "Installing collected packages: langchain-core, langchain-text-splitters, langchain-community, langchain, langchain-experimental\n",
      "\u001b[2K  Attempting uninstall: langchain-core\n",
      "\u001b[2K    Found existing installation: langchain-core 0.3.79\n",
      "\u001b[2K    Uninstalling langchain-core-0.3.79:\n",
      "\u001b[2K      Successfully uninstalled langchain-core-0.3.79\n",
      "\u001b[2K  Attempting uninstall: langchain-text-splitters━━━━━━\u001b[0m \u001b[32m0/5\u001b[0m [langchain-core]\n",
      "\u001b[2K    Found existing installation: langchain-text-splitters 0.3.11[0m [langchain-core]\n",
      "\u001b[2K    Uninstalling langchain-text-splitters-0.3.11:━\u001b[0m \u001b[32m0/5\u001b[0m [langchain-core]\n",
      "\u001b[2K      Successfully uninstalled langchain-text-splitters-0.3.115\u001b[0m [langchain-core]\n",
      "\u001b[2K  Attempting uninstall: langchain-community━━━━━━━\u001b[0m \u001b[32m0/5\u001b[0m [langchain-core]\n",
      "\u001b[2K    Found existing installation: langchain-community 0.3.31m0/5\u001b[0m [langchain-core]\n",
      "\u001b[2K    Uninstalling langchain-community-0.3.31:━━━━━━\u001b[0m \u001b[32m0/5\u001b[0m [langchain-core]\n",
      "\u001b[2K      Successfully uninstalled langchain-community-0.3.31\u001b[38;5;237m━━━━━━━━━━━━━━━━━━━━━━━\u001b[0m \u001b[32m2/5\u001b[0m [langchain-community]\n",
      "\u001b[2K  Attempting uninstall: langchain━━━━\u001b[0m\u001b[38;5;237m╺\u001b[0m\u001b[38;5;237m━━━━━━━━━━━━━━━━━━━━━━━\u001b[0m \u001b[32m2/5\u001b[0m [langchain-community]\n",
      "\u001b[2K    Found existing installation: langchain 0.3.27\u001b[0m\u001b[38;5;237m━━━━━━━━━━━━━━━━━━━━━━━\u001b[0m \u001b[32m2/5\u001b[0m [langchain-community]\n",
      "\u001b[2K    Uninstalling langchain-0.3.27:[0m\u001b[38;5;237m╺\u001b[0m\u001b[38;5;237m━━━━━━━━━━━━━━━━━━━━━━━\u001b[0m \u001b[32m2/5\u001b[0m [langchain-community]\n",
      "\u001b[2K      Successfully uninstalled langchain-0.3.27m╺\u001b[0m\u001b[38;5;237m━━━━━━━━━━━━━━━━━━━━━━━\u001b[0m \u001b[32m2/5\u001b[0m [langchain-community]\n",
      "\u001b[2K  Attempting uninstall: langchain-experimental[0m\u001b[38;5;237m╺\u001b[0m\u001b[38;5;237m━━━━━━━━━━━━━━━\u001b[0m \u001b[32m3/5\u001b[0m [langchain]unity]\n",
      "\u001b[2K    Found existing installation: langchain-experimental 0.3.4\u001b[38;5;237m━━━━━━━━━━━━━━━\u001b[0m \u001b[32m3/5\u001b[0m [langchain]\n",
      "\u001b[2K    Uninstalling langchain-experimental-0.3.4:[38;5;237m╺\u001b[0m\u001b[38;5;237m━━━━━━━━━━━━━━━\u001b[0m \u001b[32m3/5\u001b[0m [langchain]\n",
      "\u001b[2K      Successfully uninstalled langchain-experimental-0.3.40m\u001b[38;5;237m━━━━━━━━━━━━━━━\u001b[0m \u001b[32m3/5\u001b[0m [langchain]\n",
      "\u001b[2K   \u001b[38;2;114;156;31m━━━━━━━━━━━━━━━━━━━━━━━━━━━━━━━━━━━━━━━━\u001b[0m \u001b[32m5/5\u001b[0m [langchain-experimental]m [langchain]\n",
      "\u001b[1A\u001b[2KSuccessfully installed langchain-1.0.3 langchain-community-0.4.1 langchain-core-1.0.2 langchain-experimental-0.0.42 langchain-text-splitters-1.0.0\n"
     ]
    }
   ],
   "source": [
    "!pip install --upgrade langchain-core langchain langchain-experimental langchain-community\n"
   ]
  },
  {
   "cell_type": "code",
   "execution_count": null,
   "metadata": {},
   "outputs": [],
   "source": [
    "!export OPENAI_API_KEY=\"\""
   ]
  },
  {
   "cell_type": "code",
   "execution_count": 94,
   "metadata": {
    "id": "pZP64uFM9vLk"
   },
   "outputs": [],
   "source": [
    "graph_documents = llm_transformer.convert_to_graph_documents(documents)"
   ]
  },
  {
   "cell_type": "code",
   "execution_count": 96,
   "metadata": {
    "colab": {
     "base_uri": "https://localhost:8080/"
    },
    "id": "3Nwjd5yR92VE",
    "outputId": "1c707732-3f56-4228-be36-5e376a481aac"
   },
   "outputs": [
    {
     "data": {
      "text/plain": [
       "[GraphDocument(nodes=[Node(id='Troubleshooting Guide For Cnc Machines', type='Guide', properties={}), Node(id='Patiala Locomotive Works', type='Organization', properties={}), Node(id='Iso 9001', type='Certification', properties={}), Node(id='Iso 14001', type='Certification', properties={}), Node(id='Is 18001', type='Certification', properties={}), Node(id='Iso 50001', type='Certification', properties={}), Node(id='5S', type='Certification', properties={}), Node(id='Green Building', type='Certification', properties={})], relationships=[Relationship(source=Node(id='Patiala Locomotive Works', type='Organization', properties={}), target=Node(id='Iso 9001', type='Certification', properties={}), type='CERTIFIED', properties={}), Relationship(source=Node(id='Patiala Locomotive Works', type='Organization', properties={}), target=Node(id='Iso 14001', type='Certification', properties={}), type='CERTIFIED', properties={}), Relationship(source=Node(id='Patiala Locomotive Works', type='Organization', properties={}), target=Node(id='Is 18001', type='Certification', properties={}), type='CERTIFIED', properties={}), Relationship(source=Node(id='Patiala Locomotive Works', type='Organization', properties={}), target=Node(id='Iso 50001', type='Certification', properties={}), type='CERTIFIED', properties={}), Relationship(source=Node(id='Patiala Locomotive Works', type='Organization', properties={}), target=Node(id='5S', type='Certification', properties={}), type='CERTIFIED', properties={}), Relationship(source=Node(id='Patiala Locomotive Works', type='Organization', properties={}), target=Node(id='Green Building', type='Certification', properties={}), type='CERTIFIED', properties={})], source=Document(metadata={'producer': 'https://www.convertapi.com', 'creator': '', 'creationdate': '2022-02-27T09:40:06+02:00', 'moddate': '2022-02-27T09:40:08+02:00', 'source': '/Users/tamilselavans/Downloads/neo4j-docker/cnc_troubleshooting.pdf', 'total_pages': 26, 'page': 0, 'page_label': '1'}, page_content='1  \\n \\n \\n \\n \\n \\n \\n \\n \\nTROUBLESHOOTING GUIDE FOR CNC MACHINES \\n \\n \\n       PATIALA LOCOMOTIVE WORKS, PATIALA \\nAn ISO 9001,  ISO 14001, IS 18001, ISO 50001,  5S & Green Building Certified Organization')),\n",
       " GraphDocument(nodes=[Node(id='General Troubleshooting', type='Topic', properties={}), Node(id='Trouble Shooting For Three Phase Voltage Stabilizers', type='Topic', properties={}), Node(id='Hydraulic Systems Trouble Shooting', type='Topic', properties={}), Node(id='Preventive Maintenance Schedule', type='Topic', properties={}), Node(id='Resources And Spares For Cnc Machines', type='Topic', properties={})], relationships=[Relationship(source=Node(id='General Troubleshooting', type='Topic', properties={}), target=Node(id='Trouble Shooting For Three Phase Voltage Stabilizers', type='Topic', properties={}), type='RELATED', properties={}), Relationship(source=Node(id='General Troubleshooting', type='Topic', properties={}), target=Node(id='Hydraulic Systems Trouble Shooting', type='Topic', properties={}), type='RELATED', properties={}), Relationship(source=Node(id='General Troubleshooting', type='Topic', properties={}), target=Node(id='Preventive Maintenance Schedule', type='Topic', properties={}), type='RELATED', properties={}), Relationship(source=Node(id='General Troubleshooting', type='Topic', properties={}), target=Node(id='Resources And Spares For Cnc Machines', type='Topic', properties={}), type='RELATED', properties={})], source=Document(metadata={'producer': 'https://www.convertapi.com', 'creator': '', 'creationdate': '2022-02-27T09:40:06+02:00', 'moddate': '2022-02-27T09:40:08+02:00', 'source': '/Users/tamilselavans/Downloads/neo4j-docker/cnc_troubleshooting.pdf', 'total_pages': 26, 'page': 1, 'page_label': '2'}, page_content='2  \\n \\n \\n \\n \\n \\n \\n \\n \\n \\n \\n \\nINDEX \\n \\nS.N Topic Page No. \\n1 GENERAL TROUBLESHOOTING 03-09 \\n2 TROUBLE SHOOTING FOR THREE PHASE VOLTAGE STABILIZERS 10-11 \\n3 HYDRAULIC SYSTEMS TROUBLE SHOOTING 12-14 \\n4 PREVENTIVE MAINTENANCE SCHEDULE 15-24 \\n5 RESOURCES AND SPARES FOR CNC MACHINES 25-26')),\n",
       " GraphDocument(nodes=[Node(id='Cnc Machines', type='Machine', properties={}), Node(id='Corrective Maintenance', type='Maintenance', properties={}), Node(id='Preventive Maintenance', type='Maintenance', properties={}), Node(id='Backlog Maintenance', type='Maintenance', properties={}), Node(id='Deferred Maintenance', type='Maintenance', properties={}), Node(id='Tpm', type='Maintenance', properties={})], relationships=[Relationship(source=Node(id='Cnc Machines', type='Machine', properties={}), target=Node(id='Corrective Maintenance', type='Maintenance', properties={}), type='MAINTENANCE_TYPE', properties={}), Relationship(source=Node(id='Cnc Machines', type='Machine', properties={}), target=Node(id='Preventive Maintenance', type='Maintenance', properties={}), type='MAINTENANCE_TYPE', properties={}), Relationship(source=Node(id='Cnc Machines', type='Machine', properties={}), target=Node(id='Backlog Maintenance', type='Maintenance', properties={}), type='MAINTENANCE_TYPE', properties={}), Relationship(source=Node(id='Cnc Machines', type='Machine', properties={}), target=Node(id='Deferred Maintenance', type='Maintenance', properties={}), type='MAINTENANCE_TYPE', properties={}), Relationship(source=Node(id='Cnc Machines', type='Machine', properties={}), target=Node(id='Tpm', type='Maintenance', properties={}), type='MAINTENANCE_TYPE', properties={})], source=Document(metadata={'producer': 'https://www.convertapi.com', 'creator': '', 'creationdate': '2022-02-27T09:40:06+02:00', 'moddate': '2022-02-27T09:40:08+02:00', 'source': '/Users/tamilselavans/Downloads/neo4j-docker/cnc_troubleshooting.pdf', 'total_pages': 26, 'page': 2, 'page_label': '3'}, page_content='3  \\n \\n \\n \\n \\nObjective \\nTROUBLESHOOTING OF CNC MACHINES \\nAt the end of this unit you should understand:- \\n \\n• Different type of machine maintenance. \\n• Best maintenance practices followed by CNC machines. \\n• Tools and accessories used in CNC machine tools maintenance work. \\n• Problems related to mechanical system in CNC machines \\n• Meaning of the term “Backlash”, how to identify and measure Backlash. \\n• Causes of failure of electronic system in CNC machines and precautions to be \\nobserved. \\n• How to check pneumatic system in CNC machines. and \\n• Causes of excessive noise in CNC Machines and how to eliminate it. \\nDIFFERENT TYPE OF MACHINE MAINTENANCE. \\n \\n1 CORRECTIVE MAINTENANCE:- \\nMaintenance performed, after the occurrence of a failure, to restore the machine \\ntool to its original condition, to the extent possible. \\n \\n2. PREVENTIVE MAINTENANCE:- \\nMaintenance preformed to retain the machine in its original condition, to the \\nextent possible, by providing systematic inspection, periodical checking \\nservicing, detection and prevention of failure likely to occur. \\n \\n3. BACKLOG MAINTENANCE:- \\nMaintenance that is necessary to prevent the deterioration in the performance or \\nfunctioning of the machine by which has not been carried out. Accordingly, \\nbacklog maintenance has a higher priority than deferred maintenance. The \\nmaintenance practices to be deferred and which comes \\nunder backlog list will have be reviewed annually and documented. \\n \\n4. DEFERRED MAINTENANCE:- \\nMaintenance that is due to be carried out in the current financial year but which \\ncould not be carried out due to shortage of funds or unavailability of spare parts. \\nSuch maintenance should \\nbe added to the backlog Maintenance programme awaiting attention. \\n \\n5. TPM (TOTAL PRODUCTIVE MAINTENANCE):- \\nMaintenance method integrates production function of the equipment \\nand the maintenance function required. The maintenance of the machine \\nand its schedule is considered and integral part of the production'))]"
      ]
     },
     "execution_count": 96,
     "metadata": {},
     "output_type": "execute_result"
    }
   ],
   "source": [
    "graph_documents"
   ]
  },
  {
   "cell_type": "code",
   "execution_count": 49,
   "metadata": {},
   "outputs": [
    {
     "name": "stdout",
     "output_type": "stream",
     "text": [
      "Collecting langchain-neo4j\n",
      "  Using cached langchain_neo4j-0.6.0-py3-none-any.whl.metadata (4.5 kB)\n",
      "Requirement already satisfied: langchain-classic<2.0.0,>=1.0.0 in /opt/homebrew/Caskroom/miniconda/base/envs/graphrag/lib/python3.10/site-packages (from langchain-neo4j) (1.0.0)\n",
      "Requirement already satisfied: langchain-core<2.0.0,>=1.0.0 in /opt/homebrew/Caskroom/miniconda/base/envs/graphrag/lib/python3.10/site-packages (from langchain-neo4j) (1.0.2)\n",
      "Collecting neo4j<6.0.0,>=5.25.0 (from langchain-neo4j)\n",
      "  Using cached neo4j-5.28.2-py3-none-any.whl.metadata (5.9 kB)\n",
      "Collecting neo4j-graphrag<2.0.0,>=1.9.0 (from langchain-neo4j)\n",
      "  Using cached neo4j_graphrag-1.10.1-py3-none-any.whl.metadata (18 kB)\n",
      "Requirement already satisfied: async-timeout<5.0.0,>=4.0.0 in /opt/homebrew/Caskroom/miniconda/base/envs/graphrag/lib/python3.10/site-packages (from langchain-classic<2.0.0,>=1.0.0->langchain-neo4j) (4.0.3)\n",
      "Requirement already satisfied: langchain-text-splitters<2.0.0,>=1.0.0 in /opt/homebrew/Caskroom/miniconda/base/envs/graphrag/lib/python3.10/site-packages (from langchain-classic<2.0.0,>=1.0.0->langchain-neo4j) (1.0.0)\n",
      "Requirement already satisfied: langsmith<1.0.0,>=0.1.17 in /opt/homebrew/Caskroom/miniconda/base/envs/graphrag/lib/python3.10/site-packages (from langchain-classic<2.0.0,>=1.0.0->langchain-neo4j) (0.4.38)\n",
      "Requirement already satisfied: pydantic<3.0.0,>=2.7.4 in /opt/homebrew/Caskroom/miniconda/base/envs/graphrag/lib/python3.10/site-packages (from langchain-classic<2.0.0,>=1.0.0->langchain-neo4j) (2.12.3)\n",
      "Requirement already satisfied: pyyaml<7.0.0,>=5.3.0 in /opt/homebrew/Caskroom/miniconda/base/envs/graphrag/lib/python3.10/site-packages (from langchain-classic<2.0.0,>=1.0.0->langchain-neo4j) (6.0.3)\n",
      "Requirement already satisfied: requests<3.0.0,>=2.0.0 in /opt/homebrew/Caskroom/miniconda/base/envs/graphrag/lib/python3.10/site-packages (from langchain-classic<2.0.0,>=1.0.0->langchain-neo4j) (2.32.5)\n",
      "Requirement already satisfied: sqlalchemy<3.0.0,>=1.4.0 in /opt/homebrew/Caskroom/miniconda/base/envs/graphrag/lib/python3.10/site-packages (from langchain-classic<2.0.0,>=1.0.0->langchain-neo4j) (2.0.44)\n",
      "Requirement already satisfied: jsonpatch<2.0.0,>=1.33.0 in /opt/homebrew/Caskroom/miniconda/base/envs/graphrag/lib/python3.10/site-packages (from langchain-core<2.0.0,>=1.0.0->langchain-neo4j) (1.33)\n",
      "Requirement already satisfied: packaging<26.0.0,>=23.2.0 in /opt/homebrew/Caskroom/miniconda/base/envs/graphrag/lib/python3.10/site-packages (from langchain-core<2.0.0,>=1.0.0->langchain-neo4j) (25.0)\n",
      "Requirement already satisfied: tenacity!=8.4.0,<10.0.0,>=8.1.0 in /opt/homebrew/Caskroom/miniconda/base/envs/graphrag/lib/python3.10/site-packages (from langchain-core<2.0.0,>=1.0.0->langchain-neo4j) (9.1.2)\n",
      "Requirement already satisfied: typing-extensions<5.0.0,>=4.7.0 in /opt/homebrew/Caskroom/miniconda/base/envs/graphrag/lib/python3.10/site-packages (from langchain-core<2.0.0,>=1.0.0->langchain-neo4j) (4.15.0)\n",
      "Requirement already satisfied: jsonpointer>=1.9 in /opt/homebrew/Caskroom/miniconda/base/envs/graphrag/lib/python3.10/site-packages (from jsonpatch<2.0.0,>=1.33.0->langchain-core<2.0.0,>=1.0.0->langchain-neo4j) (3.0.0)\n",
      "Requirement already satisfied: httpx<1,>=0.23.0 in /opt/homebrew/Caskroom/miniconda/base/envs/graphrag/lib/python3.10/site-packages (from langsmith<1.0.0,>=0.1.17->langchain-classic<2.0.0,>=1.0.0->langchain-neo4j) (0.28.1)\n",
      "Requirement already satisfied: orjson>=3.9.14 in /opt/homebrew/Caskroom/miniconda/base/envs/graphrag/lib/python3.10/site-packages (from langsmith<1.0.0,>=0.1.17->langchain-classic<2.0.0,>=1.0.0->langchain-neo4j) (3.11.4)\n",
      "Requirement already satisfied: requests-toolbelt>=1.0.0 in /opt/homebrew/Caskroom/miniconda/base/envs/graphrag/lib/python3.10/site-packages (from langsmith<1.0.0,>=0.1.17->langchain-classic<2.0.0,>=1.0.0->langchain-neo4j) (1.0.0)\n",
      "Requirement already satisfied: zstandard>=0.23.0 in /opt/homebrew/Caskroom/miniconda/base/envs/graphrag/lib/python3.10/site-packages (from langsmith<1.0.0,>=0.1.17->langchain-classic<2.0.0,>=1.0.0->langchain-neo4j) (0.25.0)\n",
      "Requirement already satisfied: anyio in /opt/homebrew/Caskroom/miniconda/base/envs/graphrag/lib/python3.10/site-packages (from httpx<1,>=0.23.0->langsmith<1.0.0,>=0.1.17->langchain-classic<2.0.0,>=1.0.0->langchain-neo4j) (4.11.0)\n",
      "Requirement already satisfied: certifi in /opt/homebrew/Caskroom/miniconda/base/envs/graphrag/lib/python3.10/site-packages (from httpx<1,>=0.23.0->langsmith<1.0.0,>=0.1.17->langchain-classic<2.0.0,>=1.0.0->langchain-neo4j) (2025.10.5)\n",
      "Requirement already satisfied: httpcore==1.* in /opt/homebrew/Caskroom/miniconda/base/envs/graphrag/lib/python3.10/site-packages (from httpx<1,>=0.23.0->langsmith<1.0.0,>=0.1.17->langchain-classic<2.0.0,>=1.0.0->langchain-neo4j) (1.0.9)\n",
      "Requirement already satisfied: idna in /opt/homebrew/Caskroom/miniconda/base/envs/graphrag/lib/python3.10/site-packages (from httpx<1,>=0.23.0->langsmith<1.0.0,>=0.1.17->langchain-classic<2.0.0,>=1.0.0->langchain-neo4j) (3.11)\n",
      "Requirement already satisfied: h11>=0.16 in /opt/homebrew/Caskroom/miniconda/base/envs/graphrag/lib/python3.10/site-packages (from httpcore==1.*->httpx<1,>=0.23.0->langsmith<1.0.0,>=0.1.17->langchain-classic<2.0.0,>=1.0.0->langchain-neo4j) (0.16.0)\n",
      "Requirement already satisfied: pytz in /opt/homebrew/Caskroom/miniconda/base/envs/graphrag/lib/python3.10/site-packages (from neo4j<6.0.0,>=5.25.0->langchain-neo4j) (2025.2)\n",
      "Collecting fsspec<2025.0.0,>=2024.9.0 (from neo4j-graphrag<2.0.0,>=1.9.0->langchain-neo4j)\n",
      "  Using cached fsspec-2024.12.0-py3-none-any.whl.metadata (11 kB)\n",
      "Collecting json-repair<0.45.0,>=0.44.1 (from neo4j-graphrag<2.0.0,>=1.9.0->langchain-neo4j)\n",
      "  Using cached json_repair-0.44.1-py3-none-any.whl.metadata (12 kB)\n",
      "Requirement already satisfied: numpy<3.0.0,>=2.0.0 in /opt/homebrew/Caskroom/miniconda/base/envs/graphrag/lib/python3.10/site-packages (from neo4j-graphrag<2.0.0,>=1.9.0->langchain-neo4j) (2.2.6)\n",
      "Collecting pypdf<7.0.0,>=6.0.0 (from neo4j-graphrag<2.0.0,>=1.9.0->langchain-neo4j)\n",
      "  Using cached pypdf-6.1.3-py3-none-any.whl.metadata (7.1 kB)\n",
      "Collecting scipy<2.0.0,>=1.13.0 (from neo4j-graphrag<2.0.0,>=1.9.0->langchain-neo4j)\n",
      "  Using cached scipy-1.15.3-cp310-cp310-macosx_14_0_arm64.whl.metadata (61 kB)\n",
      "Collecting types-pyyaml<7.0.0.0,>=6.0.12.20240917 (from neo4j-graphrag<2.0.0,>=1.9.0->langchain-neo4j)\n",
      "  Using cached types_pyyaml-6.0.12.20250915-py3-none-any.whl.metadata (1.7 kB)\n",
      "Requirement already satisfied: annotated-types>=0.6.0 in /opt/homebrew/Caskroom/miniconda/base/envs/graphrag/lib/python3.10/site-packages (from pydantic<3.0.0,>=2.7.4->langchain-classic<2.0.0,>=1.0.0->langchain-neo4j) (0.7.0)\n",
      "Requirement already satisfied: pydantic-core==2.41.4 in /opt/homebrew/Caskroom/miniconda/base/envs/graphrag/lib/python3.10/site-packages (from pydantic<3.0.0,>=2.7.4->langchain-classic<2.0.0,>=1.0.0->langchain-neo4j) (2.41.4)\n",
      "Requirement already satisfied: typing-inspection>=0.4.2 in /opt/homebrew/Caskroom/miniconda/base/envs/graphrag/lib/python3.10/site-packages (from pydantic<3.0.0,>=2.7.4->langchain-classic<2.0.0,>=1.0.0->langchain-neo4j) (0.4.2)\n",
      "Requirement already satisfied: charset_normalizer<4,>=2 in /opt/homebrew/Caskroom/miniconda/base/envs/graphrag/lib/python3.10/site-packages (from requests<3.0.0,>=2.0.0->langchain-classic<2.0.0,>=1.0.0->langchain-neo4j) (3.4.4)\n",
      "Requirement already satisfied: urllib3<3,>=1.21.1 in /opt/homebrew/Caskroom/miniconda/base/envs/graphrag/lib/python3.10/site-packages (from requests<3.0.0,>=2.0.0->langchain-classic<2.0.0,>=1.0.0->langchain-neo4j) (2.5.0)\n",
      "Requirement already satisfied: exceptiongroup>=1.0.2 in /opt/homebrew/Caskroom/miniconda/base/envs/graphrag/lib/python3.10/site-packages (from anyio->httpx<1,>=0.23.0->langsmith<1.0.0,>=0.1.17->langchain-classic<2.0.0,>=1.0.0->langchain-neo4j) (1.3.0)\n",
      "Requirement already satisfied: sniffio>=1.1 in /opt/homebrew/Caskroom/miniconda/base/envs/graphrag/lib/python3.10/site-packages (from anyio->httpx<1,>=0.23.0->langsmith<1.0.0,>=0.1.17->langchain-classic<2.0.0,>=1.0.0->langchain-neo4j) (1.3.1)\n",
      "Using cached langchain_neo4j-0.6.0-py3-none-any.whl (31 kB)\n",
      "Using cached neo4j-5.28.2-py3-none-any.whl (313 kB)\n",
      "Using cached neo4j_graphrag-1.10.1-py3-none-any.whl (204 kB)\n",
      "Using cached fsspec-2024.12.0-py3-none-any.whl (183 kB)\n",
      "Using cached json_repair-0.44.1-py3-none-any.whl (22 kB)\n",
      "Using cached pypdf-6.1.3-py3-none-any.whl (323 kB)\n",
      "Using cached scipy-1.15.3-cp310-cp310-macosx_14_0_arm64.whl (22.4 MB)\n",
      "Using cached types_pyyaml-6.0.12.20250915-py3-none-any.whl (20 kB)\n",
      "Installing collected packages: types-pyyaml, scipy, pypdf, neo4j, json-repair, fsspec, neo4j-graphrag, langchain-neo4j\n",
      "\u001b[2K  Attempting uninstall: neo4j━━\u001b[0m\u001b[38;5;237m╺\u001b[0m\u001b[38;5;237m━━━━━━━━━━━━━━━━━━━━━━━━━━━━━\u001b[0m \u001b[32m2/8\u001b[0m [pypdf]\n",
      "\u001b[2K    Found existing installation: neo4j 6.0.2[0m\u001b[38;5;237m━━━━━━━━━━━━━━━━━━━━━━━━━━━━━\u001b[0m \u001b[32m2/8\u001b[0m [pypdf]\n",
      "\u001b[2K    Uninstalling neo4j-6.0.2:0m\u001b[38;5;237m╺\u001b[0m\u001b[38;5;237m━━━━━━━━━━━━━━━━━━━━━━━━━━━━━\u001b[0m \u001b[32m2/8\u001b[0m [pypdf]\n",
      "\u001b[2K      Successfully uninstalled neo4j-6.0.2╺\u001b[0m\u001b[38;5;237m━━━━━━━━━━━━━━━━━━━━━━━━━━━━━\u001b[0m \u001b[32m2/8\u001b[0m [pypdf]\n",
      "\u001b[2K   \u001b[38;2;114;156;31m━━━━━━━━━━━━━━━━━━━━━━━━━━━━━━━━━━━━━━━━\u001b[0m \u001b[32m8/8\u001b[0m [langchain-neo4j]\u001b[32m6/8\u001b[0m [neo4j-graphrag]\n",
      "\u001b[1A\u001b[2KSuccessfully installed fsspec-2024.12.0 json-repair-0.44.1 langchain-neo4j-0.6.0 neo4j-5.28.2 neo4j-graphrag-1.10.1 pypdf-6.1.3 scipy-1.15.3 types-pyyaml-6.0.12.20250915\n"
     ]
    }
   ],
   "source": [
    "!pip install -U langchain-neo4j\n"
   ]
  },
  {
   "cell_type": "code",
   "execution_count": 97,
   "metadata": {},
   "outputs": [],
   "source": [
    "from langchain_neo4j import Neo4jGraph\n",
    "graph = Neo4jGraph()\n"
   ]
  },
  {
   "cell_type": "code",
   "execution_count": 98,
   "metadata": {
    "id": "ib_g3U1d97th"
   },
   "outputs": [],
   "source": [
    "graph.add_graph_documents(\n",
    "    graph_documents,\n",
    "    baseEntityLabel=True,\n",
    "    include_source=True\n",
    ")"
   ]
  },
  {
   "cell_type": "code",
   "execution_count": 99,
   "metadata": {
    "id": "rC-4O5FQ99yH"
   },
   "outputs": [],
   "source": [
    "# directly show the graph resulting from the given Cypher query\n",
    "default_cypher = \"MATCH (s)-[r:!MENTIONS]->(t) RETURN s,r,t LIMIT 50\""
   ]
  },
  {
   "cell_type": "code",
   "execution_count": 100,
   "metadata": {
    "id": "K-91BluK_62t"
   },
   "outputs": [],
   "source": [
    "from yfiles_jupyter_graphs import GraphWidget\n",
    "from neo4j import GraphDatabase"
   ]
  },
  {
   "cell_type": "code",
   "execution_count": 101,
   "metadata": {
    "id": "djVL6Gh4_4sV"
   },
   "outputs": [],
   "source": [
    "try:\n",
    "  import google.colab\n",
    "  from google.colab import output\n",
    "  output.enable_custom_widget_manager()\n",
    "except:\n",
    "  pass"
   ]
  },
  {
   "cell_type": "code",
   "execution_count": 102,
   "metadata": {
    "id": "0Ll2WNnO-Ahf"
   },
   "outputs": [],
   "source": [
    "def showGraph(cypher: str = default_cypher):\n",
    "    # create a neo4j session to run queries\n",
    "    driver = GraphDatabase.driver(\n",
    "        uri = os.environ[\"NEO4J_URI\"],\n",
    "        auth = (os.environ[\"NEO4J_USERNAME\"],\n",
    "                os.environ[\"NEO4J_PASSWORD\"]))\n",
    "    session = driver.session()\n",
    "    widget = GraphWidget(graph = session.run(cypher).graph())\n",
    "    widget.node_label_mapping = 'id'\n",
    "    display(widget)\n",
    "    return widget"
   ]
  },
  {
   "cell_type": "code",
   "execution_count": 129,
   "metadata": {
    "colab": {
     "base_uri": "https://localhost:8080/",
     "height": 1000,
     "referenced_widgets": [
      "e8b6acc77d8f4d208b74b4f1d05144e5",
      "5caa1675fb9b47e89ceeab4a5aabb705"
     ]
    },
    "id": "kz-O4c0k-C_4",
    "outputId": "9d9fa858-6d4b-45cb-bc6c-9e39297ffbef"
   },
   "outputs": [],
   "source": [
    "#showGraph()"
   ]
  },
  {
   "cell_type": "code",
   "execution_count": 104,
   "metadata": {
    "id": "zHSkb7LeBghn"
   },
   "outputs": [],
   "source": [
    "from typing import Tuple, List, Optional"
   ]
  },
  {
   "cell_type": "code",
   "execution_count": 105,
   "metadata": {
    "id": "TuDVi4vHBjXP"
   },
   "outputs": [],
   "source": [
    "from langchain_community.vectorstores import Neo4jVector"
   ]
  },
  {
   "cell_type": "code",
   "execution_count": 106,
   "metadata": {
    "id": "M_JloAimBlcK"
   },
   "outputs": [],
   "source": [
    "from langchain_openai import OpenAIEmbeddings\n",
    "vector_index = Neo4jVector.from_existing_graph(\n",
    "    OpenAIEmbeddings(),\n",
    "    search_type=\"hybrid\",\n",
    "    node_label=\"Document\",\n",
    "    text_node_properties=[\"text\"],\n",
    "    embedding_node_property=\"embedding\"\n",
    ")"
   ]
  },
  {
   "cell_type": "code",
   "execution_count": 107,
   "metadata": {
    "colab": {
     "base_uri": "https://localhost:8080/"
    },
    "id": "e0EXdSStG-Oe",
    "outputId": "d8c21f17-913c-4af0-acdb-1a9eb49dbba7"
   },
   "outputs": [
    {
     "data": {
      "text/plain": [
       "[]"
      ]
     },
     "execution_count": 107,
     "metadata": {},
     "output_type": "execute_result"
    }
   ],
   "source": [
    "graph.query(\"CREATE FULLTEXT INDEX entity IF NOT EXISTS FOR (e:__Entity__) ON EACH [e.id]\")"
   ]
  },
  {
   "cell_type": "code",
   "execution_count": 62,
   "metadata": {},
   "outputs": [
    {
     "name": "stdout",
     "output_type": "stream",
     "text": [
      "Requirement already satisfied: pydantic in /opt/homebrew/Caskroom/miniconda/base/envs/graphrag/lib/python3.10/site-packages (2.12.3)\n",
      "Requirement already satisfied: annotated-types>=0.6.0 in /opt/homebrew/Caskroom/miniconda/base/envs/graphrag/lib/python3.10/site-packages (from pydantic) (0.7.0)\n",
      "Requirement already satisfied: pydantic-core==2.41.4 in /opt/homebrew/Caskroom/miniconda/base/envs/graphrag/lib/python3.10/site-packages (from pydantic) (2.41.4)\n",
      "Requirement already satisfied: typing-extensions>=4.14.1 in /opt/homebrew/Caskroom/miniconda/base/envs/graphrag/lib/python3.10/site-packages (from pydantic) (4.15.0)\n",
      "Requirement already satisfied: typing-inspection>=0.4.2 in /opt/homebrew/Caskroom/miniconda/base/envs/graphrag/lib/python3.10/site-packages (from pydantic) (0.4.2)\n"
     ]
    }
   ],
   "source": [
    "!pip install -U pydantic\n"
   ]
  },
  {
   "cell_type": "code",
   "execution_count": 63,
   "metadata": {},
   "outputs": [],
   "source": [
    "from pydantic import BaseModel, Field\n"
   ]
  },
  {
   "cell_type": "code",
   "execution_count": 108,
   "metadata": {
    "id": "qksArGKrAvie"
   },
   "outputs": [],
   "source": [
    "from pydantic import BaseModel, Field\n",
    "from typing import List\n",
    "\n",
    "class Entities(BaseModel):\n",
    "    \"\"\"Identifying information about entities.\"\"\"\n",
    "\n",
    "    names: List[str] = Field(\n",
    "        ...,\n",
    "        description=\"All the person, organization, or business entities that appear in the text\",\n",
    "    )\n"
   ]
  },
  {
   "cell_type": "code",
   "execution_count": 109,
   "metadata": {
    "id": "Mx6sfpgRBrs-"
   },
   "outputs": [],
   "source": [
    "from langchain_core.prompts import ChatPromptTemplate\n",
    "from langchain_core.prompts.prompt import PromptTemplate"
   ]
  },
  {
   "cell_type": "code",
   "execution_count": 110,
   "metadata": {
    "id": "xUobRC1wAx-_"
   },
   "outputs": [],
   "source": [
    "# prompt = ChatPromptTemplate.from_messages(\n",
    "#     [\n",
    "#         (\n",
    "#             \"system\",\n",
    "#             \"You are extracting organization and person entities from the text.\",\n",
    "#         ),\n",
    "#         (\n",
    "#             \"human\",\n",
    "#             \"Use the given format to extract information from the following \"\n",
    "#             \"input: {question}\",\n",
    "#         ),\n",
    "#     ]\n",
    "# )\n",
    "prompt = ChatPromptTemplate.from_messages(\n",
    "    [\n",
    "        (\n",
    "            \"system\",\n",
    "            \"You are an industrial AI assistant that extracts troubleshooting information from CNC machine manuals. \"\n",
    "            \"Identify and extract the following entities from the text: \"\n",
    "            \"1. Machine type/model \"\n",
    "            \"2. Error code (if any) \"\n",
    "            \"3. Issue/cause description \"\n",
    "            \"4. Recommended troubleshooting steps or solutions.\",\n",
    "        ),\n",
    "        (\n",
    "            \"human\",\n",
    "            \"Extract the required information from the following CNC troubleshooting manual section. \"\n",
    "            \"Format: \"\n",
    "            \"{{'machine_type': ..., 'error_code': ..., 'issue_description': ..., 'solution_steps': ...}} \"\n",
    "            \"Input: {question}\",\n",
    "        ),\n",
    "    ]\n",
    ")\n"
   ]
  },
  {
   "cell_type": "code",
   "execution_count": 111,
   "metadata": {
    "id": "KGR6ocjkA0I_"
   },
   "outputs": [],
   "source": [
    "entity_chain = prompt | llm.with_structured_output(Entities)"
   ]
  },
  {
   "cell_type": "code",
   "execution_count": null,
   "metadata": {
    "colab": {
     "base_uri": "https://localhost:8080/"
    },
    "id": "xPLkIEmkA2R2",
    "outputId": "fecf9433-32c4-4203-ad94-ca1c56ee60ee"
   },
   "outputs": [
    {
     "data": {
      "text/plain": [
       "Entities(names=['CNC troubleshooting manual', 'Machine type: XYZ-2000', 'Error code: E123', 'Issue: Spindle not rotating', 'Solution: 1. Check power supply 2. Inspect spindle motor connections 3. Verify spindle motor functionality'])"
      ]
     },
     "execution_count": 113,
     "metadata": {},
     "output_type": "execute_result"
    }
   ],
   "source": [
    "#entity_chain.invoke({\"question\": \"types of troubleshooting steps\"}).names\n",
    "entity_chain.invoke({\"question\": \"types of troubleshooting steps\"})"
   ]
  },
  {
   "cell_type": "code",
   "execution_count": 114,
   "metadata": {
    "id": "RpbOzL5BA6hW"
   },
   "outputs": [],
   "source": [
    "from langchain_community.vectorstores.neo4j_vector import remove_lucene_chars"
   ]
  },
  {
   "cell_type": "code",
   "execution_count": 115,
   "metadata": {
    "id": "7gHCkvGKA86t"
   },
   "outputs": [],
   "source": [
    "def generate_full_text_query(input: str) -> str:\n",
    "    full_text_query = \"\"\n",
    "    words = [el for el in remove_lucene_chars(input).split() if el]\n",
    "    for word in words[:-1]:\n",
    "        full_text_query += f\" {word}~2 AND\"\n",
    "    full_text_query += f\" {words[-1]}~2\"\n",
    "    return full_text_query.strip()\n"
   ]
  },
  {
   "cell_type": "code",
   "execution_count": 116,
   "metadata": {
    "id": "kjPkmFJbA_lv"
   },
   "outputs": [],
   "source": [
    "# Fulltext index query\n",
    "def structured_retriever(question: str) -> str:\n",
    "    result = \"\"\n",
    "    entities = entity_chain.invoke({\"question\": question})\n",
    "    for entity in entities.names:\n",
    "        response = graph.query(\n",
    "            \"\"\"CALL db.index.fulltext.queryNodes('entity', $query, {limit:2})\n",
    "            YIELD node,score\n",
    "            CALL {\n",
    "              WITH node\n",
    "              MATCH (node)-[r:!MENTIONS]->(neighbor)\n",
    "              RETURN node.id + ' - ' + type(r) + ' -> ' + neighbor.id AS output\n",
    "              UNION ALL\n",
    "              WITH node\n",
    "              MATCH (node)<-[r:!MENTIONS]-(neighbor)\n",
    "              RETURN neighbor.id + ' - ' + type(r) + ' -> ' +  node.id AS output\n",
    "            }\n",
    "            RETURN output LIMIT 50\n",
    "            \"\"\",\n",
    "            {\"query\": generate_full_text_query(entity)},\n",
    "        )\n",
    "        result += \"\\n\".join([el['output'] for el in response])\n",
    "    return result"
   ]
  },
  {
   "cell_type": "code",
   "execution_count": 117,
   "metadata": {
    "colab": {
     "base_uri": "https://localhost:8080/"
    },
    "id": "nIla9QpzBA8u",
    "outputId": "c521c295-5964-45bd-9ce3-29c65ad3f823"
   },
   "outputs": [
    {
     "name": "stderr",
     "output_type": "stream",
     "text": [
      "Received notification from DBMS server: {severity: WARNING} {code: Neo.ClientNotification.Statement.FeatureDeprecationWarning} {category: DEPRECATION} {title: This feature is deprecated and will be removed in future versions.} {description: CALL subquery without a variable scope clause is now deprecated. Use CALL (node, node) { ... }} {position: line: 3, column: 13, offset: 104} for query: \"CALL db.index.fulltext.queryNodes('entity', $query, {limit:2})\\n            YIELD node,score\\n            CALL {\\n              WITH node\\n              MATCH (node)-[r:!MENTIONS]->(neighbor)\\n              RETURN node.id + ' - ' + type(r) + ' -> ' + neighbor.id AS output\\n              UNION ALL\\n              WITH node\\n              MATCH (node)<-[r:!MENTIONS]-(neighbor)\\n              RETURN neighbor.id + ' - ' + type(r) + ' -> ' +  node.id AS output\\n            }\\n            RETURN output LIMIT 50\\n            \"\n"
     ]
    },
    {
     "name": "stdout",
     "output_type": "stream",
     "text": [
      "\n"
     ]
    }
   ],
   "source": [
    "print(structured_retriever(\"types of troubleshooting steps\"))"
   ]
  },
  {
   "cell_type": "code",
   "execution_count": 118,
   "metadata": {
    "id": "Zo1QoB_iBDfO"
   },
   "outputs": [],
   "source": [
    "def retriever(question: str):\n",
    "    print(f\"Search query: {question}\")\n",
    "    structured_data = structured_retriever(question)\n",
    "    unstructured_data = [el.page_content for el in vector_index.similarity_search(question)]\n",
    "    final_data = f\"\"\"Structured data:\n",
    "{structured_data}\n",
    "Unstructured data:\n",
    "{\"#Document \". join(unstructured_data)}\n",
    "    \"\"\"\n",
    "    return final_data"
   ]
  },
  {
   "cell_type": "code",
   "execution_count": 119,
   "metadata": {
    "id": "nDLnOXBTBFaf"
   },
   "outputs": [],
   "source": [
    "_template = \"\"\"Given the following conversation and a follow up question, rephrase the follow up question to be a standalone question,\n",
    "in its original language.\n",
    "Chat History:\n",
    "{chat_history}\n",
    "Follow Up Input: {question}\n",
    "Standalone question:\"\"\""
   ]
  },
  {
   "cell_type": "code",
   "execution_count": 120,
   "metadata": {
    "id": "hozfZicpBG2G"
   },
   "outputs": [],
   "source": [
    "CONDENSE_QUESTION_PROMPT = PromptTemplate.from_template(_template)"
   ]
  },
  {
   "cell_type": "code",
   "execution_count": 121,
   "metadata": {
    "id": "A9Oi3AEeBIPf"
   },
   "outputs": [],
   "source": [
    "def _format_chat_history(chat_history: List[Tuple[str, str]]) -> List:\n",
    "    buffer = []\n",
    "    for human, ai in chat_history:\n",
    "        buffer.append(HumanMessage(content=human))\n",
    "        buffer.append(AIMessage(content=ai))\n",
    "    return buffer"
   ]
  },
  {
   "cell_type": "code",
   "execution_count": 122,
   "metadata": {
    "id": "vXV65bjDBJwO"
   },
   "outputs": [],
   "source": [
    "from langchain_core.runnables import (\n",
    "    RunnableBranch, RunnableLambda, RunnablePassthrough\n",
    ")\n",
    "from langchain_core.prompts.prompt import PromptTemplate\n",
    "from langchain_core.output_parsers import StrOutputParser\n",
    "from langchain_core.messages import AIMessage, HumanMessage\n",
    "\n",
    "# Make sure these imports and definitions are present above:\n",
    "# - ChatOpenAI\n",
    "# - _format_chat_history\n",
    "# - CONDENSE_QUESTION_PROMPT (use your PromptTemplate)\n",
    "\n",
    "_search_query = RunnableBranch(\n",
    "    (\n",
    "        RunnableLambda(lambda x: bool(x.get(\"chat_history\"))).with_config(\n",
    "            run_name=\"HasChatHistoryCheck\"\n",
    "        ),\n",
    "        RunnablePassthrough.assign(\n",
    "            chat_history=lambda x: _format_chat_history(x[\"chat_history\"])\n",
    "        )\n",
    "        | CONDENSE_QUESTION_PROMPT\n",
    "        | ChatOpenAI(temperature=0)\n",
    "        | StrOutputParser(),\n",
    "    ),\n",
    "    RunnableLambda(lambda x : x[\"question\"]),\n",
    ")\n"
   ]
  },
  {
   "cell_type": "code",
   "execution_count": 123,
   "metadata": {
    "id": "zuVyoD1iBLgt"
   },
   "outputs": [],
   "source": [
    "template = \"\"\"Answer the question based only on the following context:\n",
    "{context}\n",
    "\n",
    "Question: {question}\n",
    "Use natural language and be concise.\n",
    "Answer:\"\"\""
   ]
  },
  {
   "cell_type": "code",
   "execution_count": 124,
   "metadata": {
    "id": "ehex9TRGBM4m"
   },
   "outputs": [],
   "source": [
    "prompt = ChatPromptTemplate.from_template(template)"
   ]
  },
  {
   "cell_type": "code",
   "execution_count": 125,
   "metadata": {
    "id": "UI6LVwkpBOOA"
   },
   "outputs": [],
   "source": [
    "from langchain_core.runnables import RunnableParallel\n",
    "\n",
    "chain = (\n",
    "    RunnableParallel(\n",
    "        {\n",
    "            \"context\": _search_query | retriever,\n",
    "            \"question\": RunnablePassthrough(),\n",
    "        }\n",
    "    )\n",
    "    | prompt\n",
    "    | llm\n",
    "    | StrOutputParser()\n",
    ")"
   ]
  },
  {
   "cell_type": "code",
   "execution_count": null,
   "metadata": {
    "colab": {
     "base_uri": "https://localhost:8080/",
     "height": 54
    },
    "id": "GZAq-jz3BOrn",
    "outputId": "d438df41-4a7e-437a-a022-902d8290e4cb"
   },
   "outputs": [
    {
     "name": "stdout",
     "output_type": "stream",
     "text": [
      "Search query: Describe the method and steps you would use to troubleshoot a loss of pressure in the hydraulic system of a CNC machine after ruling out low reservoir fluid level.\n"
     ]
    },
    {
     "name": "stderr",
     "output_type": "stream",
     "text": [
      "Received notification from DBMS server: {severity: WARNING} {code: Neo.ClientNotification.Statement.FeatureDeprecationWarning} {category: DEPRECATION} {title: This feature is deprecated and will be removed in future versions.} {description: CALL subquery without a variable scope clause is now deprecated. Use CALL (node, node) { ... }} {position: line: 3, column: 13, offset: 104} for query: \"CALL db.index.fulltext.queryNodes('entity', $query, {limit:2})\\n            YIELD node,score\\n            CALL {\\n              WITH node\\n              MATCH (node)-[r:!MENTIONS]->(neighbor)\\n              RETURN node.id + ' - ' + type(r) + ' -> ' + neighbor.id AS output\\n              UNION ALL\\n              WITH node\\n              MATCH (node)<-[r:!MENTIONS]-(neighbor)\\n              RETURN neighbor.id + ' - ' + type(r) + ' -> ' +  node.id AS output\\n            }\\n            RETURN output LIMIT 50\\n            \"\n",
      "Received notification from DBMS server: {severity: WARNING} {code: Neo.ClientNotification.Statement.FeatureDeprecationWarning} {category: DEPRECATION} {title: This feature is deprecated and will be removed in future versions.} {description: CALL subquery without a variable scope clause is now deprecated. Use CALL (node, node) { ... }} {position: line: 3, column: 13, offset: 104} for query: \"CALL db.index.fulltext.queryNodes('entity', $query, {limit:2})\\n            YIELD node,score\\n            CALL {\\n              WITH node\\n              MATCH (node)-[r:!MENTIONS]->(neighbor)\\n              RETURN node.id + ' - ' + type(r) + ' -> ' + neighbor.id AS output\\n              UNION ALL\\n              WITH node\\n              MATCH (node)<-[r:!MENTIONS]-(neighbor)\\n              RETURN neighbor.id + ' - ' + type(r) + ' -> ' +  node.id AS output\\n            }\\n            RETURN output LIMIT 50\\n            \"\n",
      "Received notification from DBMS server: {severity: WARNING} {code: Neo.ClientNotification.Statement.FeatureDeprecationWarning} {category: DEPRECATION} {title: This feature is deprecated and will be removed in future versions.} {description: CALL subquery without a variable scope clause is now deprecated. Use CALL (node, node) { ... }} {position: line: 3, column: 13, offset: 104} for query: \"CALL db.index.fulltext.queryNodes('entity', $query, {limit:2})\\n            YIELD node,score\\n            CALL {\\n              WITH node\\n              MATCH (node)-[r:!MENTIONS]->(neighbor)\\n              RETURN node.id + ' - ' + type(r) + ' -> ' + neighbor.id AS output\\n              UNION ALL\\n              WITH node\\n              MATCH (node)<-[r:!MENTIONS]-(neighbor)\\n              RETURN neighbor.id + ' - ' + type(r) + ' -> ' +  node.id AS output\\n            }\\n            RETURN output LIMIT 50\\n            \"\n",
      "Received notification from DBMS server: {severity: WARNING} {code: Neo.ClientNotification.Statement.FeatureDeprecationWarning} {category: DEPRECATION} {title: This feature is deprecated and will be removed in future versions.} {description: CALL subquery without a variable scope clause is now deprecated. Use CALL () { ... }} {position: line: 1, column: 1, offset: 0} for query: \"CALL { CALL db.index.vector.queryNodes($index, $k, $embedding) YIELD node, score WITH collect({node:node, score:score}) AS nodes, max(score) AS max UNWIND nodes AS n RETURN n.node AS node, (n.score / max) AS score UNION CALL db.index.fulltext.queryNodes($keyword_index, $query, {limit: $k}) YIELD node, score WITH collect({node:node, score:score}) AS nodes, max(score) AS max UNWIND nodes AS n RETURN n.node AS node, (n.score / max) AS score } WITH node, max(score) AS score ORDER BY score DESC LIMIT $k RETURN reduce(str='', k IN ['text'] | str + '\\\\n' + k + ': ' + coalesce(node[k], '')) AS text, node {.*, `embedding`: Null, id: Null, `text`: Null} AS metadata, score\"\n"
     ]
    },
    {
     "data": {
      "text/plain": [
       "'To troubleshoot a loss of pressure in the hydraulic system of a CNC machine after ruling out low reservoir fluid level, the method and steps would involve checking for leaks in the hydraulic lines, inspecting the hydraulic pump for any malfunctions, examining the hydraulic valves for blockages or damage, and testing the pressure relief valve for proper functioning. Additionally, it would be important to ensure that the hydraulic filters are clean and not clogged, and to verify that the hydraulic fluid is at the correct viscosity and level.'"
      ]
     },
     "execution_count": 128,
     "metadata": {},
     "output_type": "execute_result"
    }
   ],
   "source": [
    "chain.invoke({\"question\": \"Describe the method and steps you would use to troubleshoot a loss of pressure in the hydraulic system of a CNC machine after ruling out low reservoir fluid level.\"})"
   ]
  },
  {
   "cell_type": "code",
   "execution_count": null,
   "metadata": {
    "colab": {
     "base_uri": "https://localhost:8080/",
     "height": 54
    },
    "id": "b8bO9V_MIBZ5",
    "outputId": "d5d3cfa2-c4ec-4089-e715-0233e688bf85"
   },
   "outputs": [
    {
     "name": "stdout",
     "output_type": "stream",
     "text": [
      "Search query: When was Elizabeth I born?\n"
     ]
    },
    {
     "name": "stderr",
     "output_type": "stream",
     "text": [
      "Received notification from DBMS server: {severity: WARNING} {code: Neo.ClientNotification.Statement.FeatureDeprecationWarning} {category: DEPRECATION} {title: This feature is deprecated and will be removed in future versions.} {description: CALL subquery without a variable scope clause is now deprecated. Use CALL (node, node) { ... }} {position: line: 3, column: 13, offset: 104} for query: \"CALL db.index.fulltext.queryNodes('entity', $query, {limit:2})\\n            YIELD node,score\\n            CALL {\\n              WITH node\\n              MATCH (node)-[r:!MENTIONS]->(neighbor)\\n              RETURN node.id + ' - ' + type(r) + ' -> ' + neighbor.id AS output\\n              UNION ALL\\n              WITH node\\n              MATCH (node)<-[r:!MENTIONS]-(neighbor)\\n              RETURN neighbor.id + ' - ' + type(r) + ' -> ' +  node.id AS output\\n            }\\n            RETURN output LIMIT 50\\n            \"\n",
      "Received notification from DBMS server: {severity: WARNING} {code: Neo.ClientNotification.Statement.FeatureDeprecationWarning} {category: DEPRECATION} {title: This feature is deprecated and will be removed in future versions.} {description: CALL subquery without a variable scope clause is now deprecated. Use CALL () { ... }} {position: line: 1, column: 1, offset: 0} for query: \"CALL { CALL db.index.vector.queryNodes($index, $k, $embedding) YIELD node, score WITH collect({node:node, score:score}) AS nodes, max(score) AS max UNWIND nodes AS n RETURN n.node AS node, (n.score / max) AS score UNION CALL db.index.fulltext.queryNodes($keyword_index, $query, {limit: $k}) YIELD node, score WITH collect({node:node, score:score}) AS nodes, max(score) AS max UNWIND nodes AS n RETURN n.node AS node, (n.score / max) AS score } WITH node, max(score) AS score ORDER BY score DESC LIMIT $k RETURN reduce(str='', k IN ['text'] | str + '\\\\n' + k + ': ' + coalesce(node[k], '')) AS text, node {.*, `embedding`: Null, id: Null, `text`: Null} AS metadata, score\"\n"
     ]
    },
    {
     "data": {
      "text/plain": [
       "'Elizabeth I was born on 7 September 1533.'"
      ]
     },
     "execution_count": 86,
     "metadata": {},
     "output_type": "execute_result"
    }
   ],
   "source": [
    "# chain.invoke(\n",
    "#     {\n",
    "#         \"question\": \"When was she born?\",\n",
    "#         \"chat_history\": [(\"Which house did Elizabeth I belong to?\", \"House Of Tudor\")],\n",
    "#     }\n",
    "# )"
   ]
  },
  {
   "cell_type": "code",
   "execution_count": null,
   "metadata": {
    "id": "qyIlAGROIUKC"
   },
   "outputs": [],
   "source": []
  }
 ],
 "metadata": {
  "accelerator": "GPU",
  "colab": {
   "authorship_tag": "ABX9TyMIuVjJKqR/9fsypmYd/Dng",
   "gpuType": "T4",
   "include_colab_link": true,
   "provenance": []
  },
  "kernelspec": {
   "display_name": "graphrag",
   "language": "python",
   "name": "python3"
  },
  "language_info": {
   "codemirror_mode": {
    "name": "ipython",
    "version": 3
   },
   "file_extension": ".py",
   "mimetype": "text/x-python",
   "name": "python",
   "nbconvert_exporter": "python",
   "pygments_lexer": "ipython3",
   "version": "3.10.19"
  }
 },
 "nbformat": 4,
 "nbformat_minor": 0
}
